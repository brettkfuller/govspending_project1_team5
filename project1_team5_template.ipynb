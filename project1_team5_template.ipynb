{
 "cells": [
  {
   "cell_type": "markdown",
   "metadata": {},
   "source": [
    "# Global Budget Spending Analysis\n",
    "----\n",
    "<i> Project 1 Team 5 </i><br/> \n",
    "Brett Fuller, Diego Jones, Mav Sanchez"
   ]
  },
  {
   "cell_type": "code",
   "execution_count": 2,
   "metadata": {},
   "outputs": [],
   "source": [
    "#Import necessary package dependencies\n",
    "%matplotlib inline\n",
    "\n",
    "import pandas as pd\n",
    "import numpy as np\n",
    "import matplotlib.pyplot as plt\n",
    "import requests\n",
    "import pycountry\n",
    "from pprint import pprint\n",
    "from scipy.stats import linregress\n",
    "\n",
    "#Import API Key\n",
    "from config import api_key\n",
    "\n",
    "#Define directories\n",
    "source_data_dir = \"source_data\"\n",
    "staging_data_dir = \"staging_data\"\n",
    "target_data_dir = \"target_data\"\n",
    "target_images_dir = \"target_images\""
   ]
  },
  {
   "cell_type": "markdown",
   "metadata": {},
   "source": [
    "### Data extraction\n",
    "----\n",
    "#####            API Calls"
   ]
  },
  {
   "cell_type": "code",
   "execution_count": 3,
   "metadata": {},
   "outputs": [],
   "source": [
    "# Define base URLs for API\n",
    "base_url_un =\"put main endpoint here\"\n",
    "base_url_oecd =\"http://stats.oecd.org/restsdmx/sdmx.ashx/GetDataStructure/SNA_TABLE11_SNA93\"\n",
    "base_url_worldbank = \"\"\n"
   ]
  },
  {
   "cell_type": "code",
   "execution_count": null,
   "metadata": {},
   "outputs": [],
   "source": [
    "#url = \"https://stats.oecd.org/SDMX-JSON/data/SNA_TABLE11_SNA93/AUS+AUT+BEL+CAN+CHL+CZE+DNK+EST+FIN+FRA+DEU+GRC+HUN+ISL+IRL+ISR+ITA+JPN+KOR+LUX+NLD+NOR+POL+PRT+SVK+SVN+ESP+SWE+CHE+TUR+GBR+USA+NMEC+RUS.TLYCG+P3CG+D1CG+D3CG+D4CG+D4CGTOS1311+D4CGTOS1312+D4CGTOS1313+D4CGTOS1314+D62_D631XXCG+D62CG+P2_D29D5D8CG+P2CG+D29D5D8CG+D7CG+D7CGTOS1311+D7CGTOS1312+D7CGTOS1313+D7CGTOS1314+D9CG+D9CGTOS1311+D9CGTOS1312+D9CGTOS1313+D9CGTOS1314+D92CG+P5_K2CG+P5CG+P51CG+K2CG.T+010+0101+0102+0103+0104+0105+0106+0107+0108+020+0201+0202+0203+0204+0205+030+0301+0302+0303+0304+0305+0306+040+0401+0402+0403+0404+0405+0406+0407+0408+0409+050+0501+0502+0503+0504+0505+0506+060+0601+0602+0603+0604+0605+0606+070+0701+0702+0703+0704+0705+0706+080+0801+0802+0803+0804+0805+0806+090+0901+0902+0903+0904+0905+0906+0907+0908+100+1001+1002+1003+1004+1005+1006+1007+1008+1009.GS13+GS1311+GS1312+GS1313+GS1314.C+CPC/all?startTime=2009&endTime=2015&dimensionAtObservation=allDimensions\"\n",
    "url = \"https://stats.oecd.org/SDMX-JSON/data/SNA_TABLE11_SNA93/AUS+AUT+BEL+CAN+CHL+CZE+DNK+EST+FIN+FRA+DEU+GRC+HUN+ISL+IRL+ISR+ITA+JPN+KOR+LUX+NLD+NOR+POL+PRT+SVK+SVN+ESP+SWE+CHE+TUR+GBR+USA+NMEC+RUS.TLYCG+P3CG+D1CG+D3CG+D4CG+D4CGTOS1311+D4CGTOS1312+D4CGTOS1313+D4CGTOS1314+D62_D631XXCG+D62CG+P2_D29D5D8CG+P2CG+D29D5D8CG+D7CG+D7CGTOS1311+D7CGTOS1312+D7CGTOS1313+D7CGTOS1314+D9CG+D9CGTOS1311+D9CGTOS1312+D9CGTOS1313+D9CGTOS1314+D92CG+P5_K2CG+P5CG+P51CG+K2CG.T+010+0101+0102+0103+0104+0105+0106+0107+0108+020+0201+0202+0203+0204+0205+030+0301+0302+0303+0304+0305+0306+040+0401+0402+0403+0404+0405+0406+0407+0408+0409+050+0501+0502+0503+0504+0505+0506+060+0601+0602+0603+0604+0605+0606+070+0701+0702+0703+0704+0705+0706+080+0801+0802+0803+0804+0805+0806+090+0901+0902+0903+0904+0905+0906+0907+0908+100+1001+1002+1003+1004+1005+1006+1007+1008+1009.GS13+GS1311+GS1312+GS1313+GS1314.C+CPC/all?startTime=2009&endTime=2015&dimensionAtObservation=allDimensions\"\n",
    "\n",
    "response = requests.get(url).json()\n",
    "pprint(response)"
   ]
  },
  {
   "cell_type": "code",
   "execution_count": null,
   "metadata": {},
   "outputs": [],
   "source": [
    "# Get  data\n",
    "list_whatever = []\n",
    "save_to_whatever = []\n",
    "\n",
    "for a in list_whatever:\n",
    "    \n",
    "    query_url = base_url_fromwherever + 'appid=' + api_key + '&param=' + a\n",
    "    response = requests.get(query_url).json() \n",
    "    try:\n",
    "        list_whatever.append(response) #customize depending on the JSON structure\n",
    "    except:\n",
    "        pass\n",
    "\n",
    "# Save api data to data frames\n",
    "staging_df = pd.DataFrame(list_whatever)"
   ]
  },
  {
   "cell_type": "code",
   "execution_count": null,
   "metadata": {},
   "outputs": [],
   "source": [
    "# Save df to csv so we don't have to perform API calls again\n",
    "staging_df.to_csv(f\"{staging_data_dir}/staging_df.csv\")"
   ]
  },
  {
   "cell_type": "markdown",
   "metadata": {},
   "source": [
    "#####            CSV Load"
   ]
  },
  {
   "cell_type": "code",
   "execution_count": 4,
   "metadata": {},
   "outputs": [],
   "source": [
    "# Load raw CSV files to data frame\n",
    "pisa_science = pd.read_csv(f\"{source_data_dir}/pisa_science_2006_2015.csv\")\n",
    "pisa_math = pd.read_csv(f\"{source_data_dir}/pisa_math_2003_2015.csv\")\n",
    "pisa_reading  = pd.read_csv(f\"{source_data_dir}/pisa_read_2000_2015.csv\")\n"
   ]
  },
  {
   "cell_type": "code",
   "execution_count": 5,
   "metadata": {},
   "outputs": [
    {
     "data": {
      "text/plain": [
       "Index(['LOCATION', 'INDICATOR', 'SUBJECT', 'MEASURE', 'FREQUENCY', 'TIME',\n",
       "       'Value', 'Flag Codes'],\n",
       "      dtype='object')"
      ]
     },
     "execution_count": 5,
     "metadata": {},
     "output_type": "execute_result"
    }
   ],
   "source": [
    "pisa_science.columns"
   ]
  },
  {
   "cell_type": "markdown",
   "metadata": {},
   "source": [
    "### Data cleansing\n",
    "----"
   ]
  },
  {
   "cell_type": "code",
   "execution_count": 6,
   "metadata": {},
   "outputs": [
    {
     "data": {
      "text/html": [
       "<div>\n",
       "<style scoped>\n",
       "    .dataframe tbody tr th:only-of-type {\n",
       "        vertical-align: middle;\n",
       "    }\n",
       "\n",
       "    .dataframe tbody tr th {\n",
       "        vertical-align: top;\n",
       "    }\n",
       "\n",
       "    .dataframe thead th {\n",
       "        text-align: right;\n",
       "    }\n",
       "</style>\n",
       "<table border=\"1\" class=\"dataframe\">\n",
       "  <thead>\n",
       "    <tr style=\"text-align: right;\">\n",
       "      <th></th>\n",
       "      <th>Country</th>\n",
       "      <th>Year</th>\n",
       "      <th>Reading</th>\n",
       "      <th>Math</th>\n",
       "      <th>Science</th>\n",
       "      <th>Average</th>\n",
       "    </tr>\n",
       "  </thead>\n",
       "  <tbody>\n",
       "    <tr>\n",
       "      <th>0</th>\n",
       "      <td>AUS</td>\n",
       "      <td>2006</td>\n",
       "      <td>513</td>\n",
       "      <td>520</td>\n",
       "      <td>527</td>\n",
       "      <td>520.00</td>\n",
       "    </tr>\n",
       "    <tr>\n",
       "      <th>1</th>\n",
       "      <td>AUS</td>\n",
       "      <td>2009</td>\n",
       "      <td>515</td>\n",
       "      <td>514</td>\n",
       "      <td>527</td>\n",
       "      <td>518.67</td>\n",
       "    </tr>\n",
       "    <tr>\n",
       "      <th>2</th>\n",
       "      <td>AUS</td>\n",
       "      <td>2012</td>\n",
       "      <td>512</td>\n",
       "      <td>504</td>\n",
       "      <td>521</td>\n",
       "      <td>512.33</td>\n",
       "    </tr>\n",
       "    <tr>\n",
       "      <th>3</th>\n",
       "      <td>AUS</td>\n",
       "      <td>2015</td>\n",
       "      <td>503</td>\n",
       "      <td>494</td>\n",
       "      <td>510</td>\n",
       "      <td>502.33</td>\n",
       "    </tr>\n",
       "    <tr>\n",
       "      <th>4</th>\n",
       "      <td>AUT</td>\n",
       "      <td>2006</td>\n",
       "      <td>490</td>\n",
       "      <td>505</td>\n",
       "      <td>511</td>\n",
       "      <td>502.00</td>\n",
       "    </tr>\n",
       "    <tr>\n",
       "      <th>...</th>\n",
       "      <td>...</td>\n",
       "      <td>...</td>\n",
       "      <td>...</td>\n",
       "      <td>...</td>\n",
       "      <td>...</td>\n",
       "      <td>...</td>\n",
       "    </tr>\n",
       "    <tr>\n",
       "      <th>152</th>\n",
       "      <td>HKG</td>\n",
       "      <td>2015</td>\n",
       "      <td>527</td>\n",
       "      <td>548</td>\n",
       "      <td>523</td>\n",
       "      <td>532.67</td>\n",
       "    </tr>\n",
       "    <tr>\n",
       "      <th>153</th>\n",
       "      <td>PER</td>\n",
       "      <td>2015</td>\n",
       "      <td>398</td>\n",
       "      <td>387</td>\n",
       "      <td>397</td>\n",
       "      <td>394.00</td>\n",
       "    </tr>\n",
       "    <tr>\n",
       "      <th>154</th>\n",
       "      <td>SGP</td>\n",
       "      <td>2015</td>\n",
       "      <td>535</td>\n",
       "      <td>564</td>\n",
       "      <td>556</td>\n",
       "      <td>551.67</td>\n",
       "    </tr>\n",
       "    <tr>\n",
       "      <th>155</th>\n",
       "      <td>TWN</td>\n",
       "      <td>2015</td>\n",
       "      <td>497</td>\n",
       "      <td>542</td>\n",
       "      <td>532</td>\n",
       "      <td>523.67</td>\n",
       "    </tr>\n",
       "    <tr>\n",
       "      <th>156</th>\n",
       "      <td>MAC</td>\n",
       "      <td>2015</td>\n",
       "      <td>509</td>\n",
       "      <td>544</td>\n",
       "      <td>529</td>\n",
       "      <td>527.33</td>\n",
       "    </tr>\n",
       "  </tbody>\n",
       "</table>\n",
       "<p>157 rows × 6 columns</p>\n",
       "</div>"
      ],
      "text/plain": [
       "    Country  Year  Reading  Math  Science  Average\n",
       "0       AUS  2006      513   520      527   520.00\n",
       "1       AUS  2009      515   514      527   518.67\n",
       "2       AUS  2012      512   504      521   512.33\n",
       "3       AUS  2015      503   494      510   502.33\n",
       "4       AUT  2006      490   505      511   502.00\n",
       "..      ...   ...      ...   ...      ...      ...\n",
       "152     HKG  2015      527   548      523   532.67\n",
       "153     PER  2015      398   387      397   394.00\n",
       "154     SGP  2015      535   564      556   551.67\n",
       "155     TWN  2015      497   542      532   523.67\n",
       "156     MAC  2015      509   544      529   527.33\n",
       "\n",
       "[157 rows x 6 columns]"
      ]
     },
     "execution_count": 6,
     "metadata": {},
     "output_type": "execute_result"
    }
   ],
   "source": [
    "# Options\n",
    "# Delete nulls\n",
    "# FillNA with zero, etc\n",
    "# Reformat data (date format, name format)\n",
    "# Save only the columns you need\n",
    "#Get country name\n",
    "#pycountry.countries.get(alpha_3='AUS').name\n",
    "\n",
    "#weather_df_corr = weather_df.corr()\n",
    "#weather_df_corr.unstack().sort_values()\n",
    "\n",
    "pisa_reading = pisa_reading.loc[pisa_reading['TIME']>=2006,['LOCATION','INDICATOR', 'TIME','Value'] ]\n",
    "pisa_math = pisa_math.loc[pisa_math['TIME']>=2006,['LOCATION','INDICATOR', 'TIME','Value']]\n",
    "pisa_science = pisa_science.loc[pisa_science['TIME']>=2006,['LOCATION','INDICATOR', 'TIME','Value']]\n",
    "\n",
    "\n",
    "pisa_merged = pisa_reading.merge(pisa_math, how=\"inner\", on=['LOCATION', 'TIME'], suffixes=('_READING', '_MATH'))\n",
    "pisa_merged = pisa_merged.merge(pisa_science, how=\"inner\", on=['LOCATION', 'TIME'], suffixes=('','_SCIENCE'))\n",
    "pisa_merged = pisa_merged[['LOCATION','TIME', 'Value_READING','Value_MATH', 'Value']]\n",
    "pisa_merged = pisa_merged.rename(columns={\n",
    "    'LOCATION' : 'Country','TIME': 'Year', 'Value_READING':'Reading','Value_MATH':'Math', 'Value':'Science'\n",
    "})\n",
    "##for index, row in pisa_reading.iterrows():\n",
    " ##   if row['LOCATION'] == 'AUS':\n",
    "   #     print(f\"{row['TIME']} {row['Value']}\")\n",
    "pisa_merged['Average'] = pisa_merged[['Reading','Math','Science']].mean(axis=1).round(2)\n",
    "pisa_merged.dropna()"
   ]
  },
  {
   "cell_type": "markdown",
   "metadata": {},
   "source": [
    "### Data analysis\n",
    "----"
   ]
  },
  {
   "cell_type": "markdown",
   "metadata": {},
   "source": [
    "#### Question 2: What is the education budget allocation effect on students' academic performance?\n",
    "Data sources: OECD PISA Result<br/>\n",
    "OECD Government budget allocation<br/>"
   ]
  },
  {
   "cell_type": "code",
   "execution_count": null,
   "metadata": {},
   "outputs": [],
   "source": [
    "# Perform statistical analysis\n",
    "# Put applicable plot depending on your question"
   ]
  },
  {
   "cell_type": "code",
   "execution_count": null,
   "metadata": {},
   "outputs": [],
   "source": []
  }
 ],
 "metadata": {
  "kernelspec": {
   "display_name": "Python [conda env:PythonData] *",
   "language": "python",
   "name": "conda-env-PythonData-py"
  },
  "language_info": {
   "codemirror_mode": {
    "name": "ipython",
    "version": 3
   },
   "file_extension": ".py",
   "mimetype": "text/x-python",
   "name": "python",
   "nbconvert_exporter": "python",
   "pygments_lexer": "ipython3",
   "version": "3.7.5"
  }
 },
 "nbformat": 4,
 "nbformat_minor": 4
}
