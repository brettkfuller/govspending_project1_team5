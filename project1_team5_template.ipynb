{
 "cells": [
  {
   "cell_type": "markdown",
   "metadata": {},
   "source": [
    "# Global Budget Spending Analysis\n",
    "----\n",
    "<i> Project 1 Team 5 </i><br/> \n",
    "Brett Fuller, Diego Jones, Mav Sanchez"
   ]
  },
  {
   "cell_type": "code",
   "execution_count": 6,
   "metadata": {},
   "outputs": [],
   "source": [
    "#Import necessary package dependencies\n",
    "%matplotlib inline\n",
    "\n",
    "import pandas as pd\n",
    "import numpy as np\n",
    "import matplotlib.pyplot as plt\n",
    "import requests\n",
    "from pprint import pprint\n",
    "from scipy.stats import linregress\n",
    "\n",
    "#Import API Key\n",
    "from config import api_key\n",
    "\n",
    "#Define directories\n",
    "source_data_dir = \"source_data\"\n",
    "staging_data_dir = \"staging_data\"\n",
    "target_data_dir = \"target_data\"\n",
    "target_images_dir = \"target_images\""
   ]
  },
  {
   "cell_type": "markdown",
   "metadata": {},
   "source": [
    "### Data extraction\n",
    "----\n",
    "#####            API Calls"
   ]
  },
  {
   "cell_type": "code",
   "execution_count": null,
   "metadata": {},
   "outputs": [],
   "source": [
    "# Define base URLs for API\n",
    "base_url_fromwherever =\"put main endpoint here\""
   ]
  },
  {
   "cell_type": "code",
   "execution_count": null,
   "metadata": {},
   "outputs": [],
   "source": [
    "# Get  data\n",
    "list_whatever = []\n",
    "save_to_whatever = []\n",
    "\n",
    "for a in list_whatever:\n",
    "    \n",
    "    query_url = base_url_fromwherever + 'appid=' + api_key + '&param=' + a\n",
    "    response = requests.get(query_url).json() \n",
    "    try:\n",
    "        list_whatever.append(response) #customize depending on the JSON structure\n",
    "    except:\n",
    "        pass\n",
    "\n",
    "# Save api data to data frames\n",
    "staging_df = pd.DataFrame(list_whatever)"
   ]
  },
  {
   "cell_type": "code",
   "execution_count": null,
   "metadata": {},
   "outputs": [],
   "source": [
    "# Save df to csv so we don't have to perform API calls again\n",
    "staging_df.to_csv(f\"{staging_data_dir}/staging_df.csv\")"
   ]
  },
  {
   "cell_type": "code",
   "execution_count": 4,
   "metadata": {},
   "outputs": [],
   "source": [
    "#####            CSV Load"
   ]
  },
  {
   "cell_type": "code",
   "execution_count": null,
   "metadata": {},
   "outputs": [],
   "source": [
    "# Load raw CSV files to data frame\n",
    "raw_csv_data = pd.read_csv(f\"{source_data_dir}/descriptive_file_name.csv\")"
   ]
  },
  {
   "cell_type": "markdown",
   "metadata": {},
   "source": [
    "### Data cleansing\n",
    "----"
   ]
  },
  {
   "cell_type": "code",
   "execution_count": null,
   "metadata": {},
   "outputs": [],
   "source": [
    "# Options\n",
    "# Delete nulls\n",
    "# FillNA with zero, etc\n",
    "# Reformat data (date format, name format)\n",
    "# Save only the columns you need"
   ]
  },
  {
   "cell_type": "markdown",
   "metadata": {},
   "source": [
    "### Data analysis\n",
    "----"
   ]
  },
  {
   "cell_type": "markdown",
   "metadata": {},
   "source": [
    "#### Question 1: (Sample) What our developed countries' most prioritized spending?\n",
    "Answer here"
   ]
  },
  {
   "cell_type": "code",
   "execution_count": 9,
   "metadata": {},
   "outputs": [],
   "source": [
    "# Perform statistical analysis\n",
    "# Put applicable plot depending on your question"
   ]
  },
  {
   "cell_type": "code",
   "execution_count": null,
   "metadata": {},
   "outputs": [],
   "source": []
  }
 ],
 "metadata": {
  "kernelspec": {
   "display_name": "Python [conda env:PythonData] *",
   "language": "python",
   "name": "conda-env-PythonData-py"
  },
  "language_info": {
   "codemirror_mode": {
    "name": "ipython",
    "version": 3
   },
   "file_extension": ".py",
   "mimetype": "text/x-python",
   "name": "python",
   "nbconvert_exporter": "python",
   "pygments_lexer": "ipython3",
   "version": "3.7.5"
  }
 },
 "nbformat": 4,
 "nbformat_minor": 4
}
