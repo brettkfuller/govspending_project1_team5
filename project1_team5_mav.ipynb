{
 "cells": [
  {
   "cell_type": "markdown",
   "metadata": {},
   "source": [
    "# Global Budget Spending Analysis\n",
    "----\n",
    "<i> Project 1 Team 5 </i><br/> \n",
    "Brett Fuller, Diego Jones, Mav Sanchez"
   ]
  },
  {
   "cell_type": "code",
   "execution_count": 2,
   "metadata": {},
   "outputs": [],
   "source": [
    "#Import necessary package dependencies\n",
    "%matplotlib inline\n",
    "\n",
    "import pandas as pd\n",
    "import numpy as np\n",
    "import matplotlib.pyplot as plt\n",
    "import requests\n",
    "\n",
    "from pprint import pprint\n",
    "from scipy.stats import linregress\n",
    "\n",
    "#Import API Key\n",
    "from config import *\n",
    "\n",
    "#Define directories\n",
    "source_data_dir = \"source_data\"\n",
    "staging_data_dir = \"staging_data\"\n",
    "target_data_dir = \"target_data\"\n",
    "target_images_dir = \"target_images\""
   ]
  },
  {
   "cell_type": "markdown",
   "metadata": {},
   "source": [
    "### Functions declaration\n",
    "----\n",
    "#####            To be re-used for downstream cells"
   ]
  },
  {
   "cell_type": "code",
   "execution_count": 63,
   "metadata": {},
   "outputs": [],
   "source": [
    "#Standardize country names\n",
    "def get_country_name(isocode3):\n",
    "    try:\n",
    "        name = pycountry.countries.get(alpha_3=isocode3).name\n",
    "        return name\n",
    "    except:\n",
    "        return None\n",
    "\n",
    "# Plotters\n",
    "def scatter_plotter(df, x='None', y='None'):\n",
    "    try: \n",
    "        x_axis = df[x]\n",
    "        y_axis = df[y]\n",
    "        plt.title(f\"{x} vs {y}\")\n",
    "        plt.xlabel(x)\n",
    "        plt.ylabel(y)\n",
    "        plt.scatter(x_axis, y_axis, marker='o', facecolors=\"steelblue\", edgecolors=\"black\", alpha=0.75)\n",
    "        plt.grid()\n",
    "        plt.show()\n",
    "        print('Plotting successful.')\n",
    "    except:\n",
    "        print('Plotting unsuccessful. Please review parameters and ensure correct column name is passed')\n",
    "\n",
    "\n",
    "def linreg_plotter(df, x='None', y='None'):\n",
    "    try: \n",
    "        # The plt clf will CLear out the Figure settings, for reusability\n",
    "        plt.clf()\n",
    "        x_values = df[x]\n",
    "        y_values = df[y]\n",
    "\n",
    "        # Calculation of linear regression given x and y values\n",
    "        slope, intercept, rvalue, pvalue, stderr = linregress(x_values, y_values)\n",
    "        regression_values = x_values * slope + intercept\n",
    "        line_eq = f\"y = {round(slope, 2)}x + {round(intercept,2)}\"\n",
    "        print(f\"The r-squared (absolute) is :{abs(rvalue)}\\n\")\n",
    "\n",
    "        #Plot proper\n",
    "        plt.scatter(x_values, y_values, facecolors=\"steelblue\")\n",
    "        plt.plot(x_values, regression_values, 'r-')\n",
    "        plt.annotate(line_eq, (min(x_values)+5, min(y_values)+5), fontsize=15, color=\"red\")\n",
    "\n",
    "        plt.title(f\"{x} vs {y}\")\n",
    "        plt.xlabel(x)\n",
    "        plt.ylabel(y)\n",
    "        #plt.savefig(f\"output_data/LinReg_Latitude_Vs_{factor}_{where.title()}.png\")\n",
    "        plt.show()\n",
    "        print('Plotting successful.')\n",
    "    except:\n",
    "        print('Plotting unsuccessful. Please review parameters and ensure correct column name is passed')\n",
    "        \n",
    "def call_worldbank(indicator_wb, years_wb):\n",
    "    try:\n",
    "        #World Bank\n",
    "        api_format_wb = \"json\"\n",
    "\n",
    "        # Get the list of Government expenditure on education, total (% of GDP)\n",
    "        response = requests.get(f\"{base_url_worldbank}{indicator_wb}?format={api_format_wb}&date={years_wb}\").json()\n",
    "        observation_size = response[0]['total']\n",
    "        \n",
    "        wb_response = requests.get(f\"{base_url_worldbank}{indicator_wb}?format={api_format_wb}&date={years_wb}&per_page={observation_size}\").json()\n",
    "        wb_data_df = pd.DataFrame(wb_response[1])\n",
    "        return wb_data_df\n",
    "    except:\n",
    "        print('API Call to WOrldBank failed')\n",
    "        \n",
    "        "
   ]
  },
  {
   "cell_type": "markdown",
   "metadata": {},
   "source": [
    "### Data extraction\n",
    "----\n",
    "#####            API Calls"
   ]
  },
  {
   "cell_type": "code",
   "execution_count": 44,
   "metadata": {},
   "outputs": [],
   "source": [
    "# Define base URLs for API\n",
    "base_url_un =\"put main endpoint here\"\n",
    "base_url_oecd =\"http://stats.oecd.org/restsdmx/sdmx.ashx/GetDataStructure/SNA_TABLE11_SNA93\"\n",
    "base_url_worldbank = \"http://api.worldbank.org/v2/country/all/indicator/\"\n"
   ]
  },
  {
   "cell_type": "code",
   "execution_count": 67,
   "metadata": {},
   "outputs": [
    {
     "data": {
      "text/plain": [
       "Index(['indicator', 'country', 'countryiso3code', 'date', 'value', 'unit',\n",
       "       'obs_status', 'decimal'],\n",
       "      dtype='object')"
      ]
     },
     "execution_count": 67,
     "metadata": {},
     "output_type": "execute_result"
    }
   ],
   "source": [
    "wb_data_df_ps.columns"
   ]
  },
  {
   "cell_type": "code",
   "execution_count": 78,
   "metadata": {},
   "outputs": [],
   "source": [
    "# Get the list of Government expenditure on education, total (% of GDP)\n",
    "wb_data_df = call_worldbank(\"SE.XPD.TOTL.GD.ZS\", \"2000:2019\") # Government expenditure on education, total (% of GDP)\n",
    "\n",
    "wb_data_df.drop(columns=['indicator', 'country', 'unit', 'obs_status', 'decimal'], axis=1, inplace=True)\n",
    "wb_data_df.rename(columns={'countryiso3code':'Country','date':'Year', 'value': 'Percent GDP Spent'}, inplace=True)\n",
    "wb_data_df.Year = wb_data_df.Year.astype('int64')\n",
    "wb_data_df['Country'] = wb_data_df['Country'].apply(lambda x: get_country_name(x))\n",
    "wb_data_df.dropna(inplace=True)\n",
    "\n",
    "\n",
    "# Get the list of Government expenditure on education, total (% of GDP)\n",
    "\n",
    "wb_data_per_student_df = call_worldbank(\"SE.XPD.PRIM.PC.ZS\", \"2000:2019\") # GDP Capita Per Student\n",
    "wb_data_per_student_df.drop(columns=['indicator', 'country', 'unit', 'obs_status', 'decimal'], axis=1, inplace=True)\n",
    "wb_data_per_student_df.rename(columns={'countryiso3code':'Country','date':'Year', 'value': 'Per Student Spending'}, inplace=True)\n",
    "wb_data_per_student_df.Year = wb_data_per_student_df.Year.astype('int64')\n",
    "wb_data_per_student_df['Country'] = wb_data_per_student_df['Country'].apply(lambda x: get_country_name(x))\n",
    "wb_data_per_student_df.dropna(inplace=True)"
   ]
  },
  {
   "cell_type": "code",
   "execution_count": 79,
   "metadata": {},
   "outputs": [
    {
     "data": {
      "text/html": [
       "<div>\n",
       "<style scoped>\n",
       "    .dataframe tbody tr th:only-of-type {\n",
       "        vertical-align: middle;\n",
       "    }\n",
       "\n",
       "    .dataframe tbody tr th {\n",
       "        vertical-align: top;\n",
       "    }\n",
       "\n",
       "    .dataframe thead th {\n",
       "        text-align: right;\n",
       "    }\n",
       "</style>\n",
       "<table border=\"1\" class=\"dataframe\">\n",
       "  <thead>\n",
       "    <tr style=\"text-align: right;\">\n",
       "      <th></th>\n",
       "      <th>Country</th>\n",
       "      <th>Year</th>\n",
       "      <th>Percent GDP Spent</th>\n",
       "    </tr>\n",
       "  </thead>\n",
       "  <tbody>\n",
       "    <tr>\n",
       "      <th>942</th>\n",
       "      <td>Afghanistan</td>\n",
       "      <td>2017</td>\n",
       "      <td>4.05887</td>\n",
       "    </tr>\n",
       "    <tr>\n",
       "      <th>943</th>\n",
       "      <td>Afghanistan</td>\n",
       "      <td>2016</td>\n",
       "      <td>4.22836</td>\n",
       "    </tr>\n",
       "    <tr>\n",
       "      <th>944</th>\n",
       "      <td>Afghanistan</td>\n",
       "      <td>2015</td>\n",
       "      <td>3.25580</td>\n",
       "    </tr>\n",
       "    <tr>\n",
       "      <th>945</th>\n",
       "      <td>Afghanistan</td>\n",
       "      <td>2014</td>\n",
       "      <td>3.69522</td>\n",
       "    </tr>\n",
       "    <tr>\n",
       "      <th>946</th>\n",
       "      <td>Afghanistan</td>\n",
       "      <td>2013</td>\n",
       "      <td>3.45446</td>\n",
       "    </tr>\n",
       "  </tbody>\n",
       "</table>\n",
       "</div>"
      ],
      "text/plain": [
       "         Country  Year  Percent GDP Spent\n",
       "942  Afghanistan  2017            4.05887\n",
       "943  Afghanistan  2016            4.22836\n",
       "944  Afghanistan  2015            3.25580\n",
       "945  Afghanistan  2014            3.69522\n",
       "946  Afghanistan  2013            3.45446"
      ]
     },
     "execution_count": 79,
     "metadata": {},
     "output_type": "execute_result"
    }
   ],
   "source": [
    "wb_data_df.head()"
   ]
  },
  {
   "cell_type": "code",
   "execution_count": null,
   "metadata": {},
   "outputs": [],
   "source": [
    "# Save df to csv so we don't have to perform API calls again\n",
    "#staging_df.to_csv(f\"{staging_data_dir}/staging_df.csv\")"
   ]
  },
  {
   "cell_type": "code",
   "execution_count": 81,
   "metadata": {},
   "outputs": [
    {
     "data": {
      "text/html": [
       "<div>\n",
       "<style scoped>\n",
       "    .dataframe tbody tr th:only-of-type {\n",
       "        vertical-align: middle;\n",
       "    }\n",
       "\n",
       "    .dataframe tbody tr th {\n",
       "        vertical-align: top;\n",
       "    }\n",
       "\n",
       "    .dataframe thead th {\n",
       "        text-align: right;\n",
       "    }\n",
       "</style>\n",
       "<table border=\"1\" class=\"dataframe\">\n",
       "  <thead>\n",
       "    <tr style=\"text-align: right;\">\n",
       "      <th></th>\n",
       "      <th>Country</th>\n",
       "      <th>Year</th>\n",
       "      <th>Per Student Spending</th>\n",
       "    </tr>\n",
       "  </thead>\n",
       "  <tbody>\n",
       "    <tr>\n",
       "      <th>942</th>\n",
       "      <td>Afghanistan</td>\n",
       "      <td>2017</td>\n",
       "      <td>10.02208</td>\n",
       "    </tr>\n",
       "    <tr>\n",
       "      <th>944</th>\n",
       "      <td>Afghanistan</td>\n",
       "      <td>2015</td>\n",
       "      <td>8.32950</td>\n",
       "    </tr>\n",
       "    <tr>\n",
       "      <th>945</th>\n",
       "      <td>Afghanistan</td>\n",
       "      <td>2014</td>\n",
       "      <td>9.65715</td>\n",
       "    </tr>\n",
       "    <tr>\n",
       "      <th>946</th>\n",
       "      <td>Afghanistan</td>\n",
       "      <td>2013</td>\n",
       "      <td>9.25884</td>\n",
       "    </tr>\n",
       "    <tr>\n",
       "      <th>947</th>\n",
       "      <td>Afghanistan</td>\n",
       "      <td>2012</td>\n",
       "      <td>7.34472</td>\n",
       "    </tr>\n",
       "  </tbody>\n",
       "</table>\n",
       "</div>"
      ],
      "text/plain": [
       "         Country  Year  Per Student Spending\n",
       "942  Afghanistan  2017              10.02208\n",
       "944  Afghanistan  2015               8.32950\n",
       "945  Afghanistan  2014               9.65715\n",
       "946  Afghanistan  2013               9.25884\n",
       "947  Afghanistan  2012               7.34472"
      ]
     },
     "execution_count": 81,
     "metadata": {},
     "output_type": "execute_result"
    }
   ],
   "source": [
    "wb_data_per_student_df.head()"
   ]
  },
  {
   "cell_type": "markdown",
   "metadata": {},
   "source": [
    "#####            CSV Load"
   ]
  },
  {
   "cell_type": "code",
   "execution_count": 7,
   "metadata": {},
   "outputs": [],
   "source": [
    "# Load raw CSV files to data frame\n",
    "pisa_science = pd.read_csv(f\"{source_data_dir}/pisa_science_2006_2015.csv\")\n",
    "pisa_math = pd.read_csv(f\"{source_data_dir}/pisa_math_2003_2015.csv\")\n",
    "pisa_reading  = pd.read_csv(f\"{source_data_dir}/pisa_read_2000_2015.csv\")"
   ]
  },
  {
   "cell_type": "markdown",
   "metadata": {},
   "source": [
    "### Data cleansing\n",
    "----"
   ]
  },
  {
   "cell_type": "code",
   "execution_count": 47,
   "metadata": {},
   "outputs": [
    {
     "data": {
      "text/html": [
       "<div>\n",
       "<style scoped>\n",
       "    .dataframe tbody tr th:only-of-type {\n",
       "        vertical-align: middle;\n",
       "    }\n",
       "\n",
       "    .dataframe tbody tr th {\n",
       "        vertical-align: top;\n",
       "    }\n",
       "\n",
       "    .dataframe thead th {\n",
       "        text-align: right;\n",
       "    }\n",
       "</style>\n",
       "<table border=\"1\" class=\"dataframe\">\n",
       "  <thead>\n",
       "    <tr style=\"text-align: right;\">\n",
       "      <th></th>\n",
       "      <th>Country</th>\n",
       "      <th>Year</th>\n",
       "      <th>Reading</th>\n",
       "      <th>Math</th>\n",
       "      <th>Science</th>\n",
       "      <th>Average Students Score</th>\n",
       "    </tr>\n",
       "  </thead>\n",
       "  <tbody>\n",
       "    <tr>\n",
       "      <th>0</th>\n",
       "      <td>Australia</td>\n",
       "      <td>2006</td>\n",
       "      <td>513</td>\n",
       "      <td>520</td>\n",
       "      <td>527</td>\n",
       "      <td>520.00</td>\n",
       "    </tr>\n",
       "    <tr>\n",
       "      <th>1</th>\n",
       "      <td>Australia</td>\n",
       "      <td>2009</td>\n",
       "      <td>515</td>\n",
       "      <td>514</td>\n",
       "      <td>527</td>\n",
       "      <td>518.67</td>\n",
       "    </tr>\n",
       "    <tr>\n",
       "      <th>2</th>\n",
       "      <td>Australia</td>\n",
       "      <td>2012</td>\n",
       "      <td>512</td>\n",
       "      <td>504</td>\n",
       "      <td>521</td>\n",
       "      <td>512.33</td>\n",
       "    </tr>\n",
       "    <tr>\n",
       "      <th>3</th>\n",
       "      <td>Australia</td>\n",
       "      <td>2015</td>\n",
       "      <td>503</td>\n",
       "      <td>494</td>\n",
       "      <td>510</td>\n",
       "      <td>502.33</td>\n",
       "    </tr>\n",
       "    <tr>\n",
       "      <th>4</th>\n",
       "      <td>Austria</td>\n",
       "      <td>2006</td>\n",
       "      <td>490</td>\n",
       "      <td>505</td>\n",
       "      <td>511</td>\n",
       "      <td>502.00</td>\n",
       "    </tr>\n",
       "  </tbody>\n",
       "</table>\n",
       "</div>"
      ],
      "text/plain": [
       "     Country  Year  Reading  Math  Science  Average Students Score\n",
       "0  Australia  2006      513   520      527                  520.00\n",
       "1  Australia  2009      515   514      527                  518.67\n",
       "2  Australia  2012      512   504      521                  512.33\n",
       "3  Australia  2015      503   494      510                  502.33\n",
       "4    Austria  2006      490   505      511                  502.00"
      ]
     },
     "execution_count": 47,
     "metadata": {},
     "output_type": "execute_result"
    }
   ],
   "source": [
    "# Only pull data older than 2006\n",
    "pisa_reading = pisa_reading.loc[pisa_reading['TIME']>=2006,['LOCATION','INDICATOR', 'TIME','Value'] ]\n",
    "pisa_math = pisa_math.loc[pisa_math['TIME']>=2006,['LOCATION','INDICATOR', 'TIME','Value']]\n",
    "pisa_science = pisa_science.loc[pisa_science['TIME']>=2006,['LOCATION','INDICATOR', 'TIME','Value']]\n",
    "\n",
    "#Merge all Reading, Math, Science data\n",
    "pisa_merged = pisa_reading.merge(pisa_math, how=\"inner\", on=['LOCATION', 'TIME'], suffixes=('_READING', '_MATH'))\n",
    "pisa_merged = pisa_merged.merge(pisa_science, how=\"inner\", on=['LOCATION', 'TIME'], suffixes=('','_SCIENCE'))\n",
    "pisa_merged = pisa_merged[['LOCATION','TIME', 'Value_READING','Value_MATH', 'Value']]\n",
    "\n",
    "# Rename columns\n",
    "pisa_merged = pisa_merged.rename(columns={'LOCATION' : 'Country','TIME': 'Year', 'Value_READING':'Reading','Value_MATH':'Math', 'Value':'Science'})\n",
    "pisa_merged['Average Students Score'] = pisa_merged[['Reading','Math','Science']].mean(axis=1).round(2)\n",
    "\n",
    "# Transform ISO3 codes countries to their corresponding pycountry name\n",
    "pisa_merged['Country'] = pisa_merged['Country'].apply(lambda x: get_country_name(x))\n",
    "pisa_merged.dropna()\n",
    "pisa_merged.head()"
   ]
  },
  {
   "cell_type": "markdown",
   "metadata": {},
   "source": [
    "### Data analysis\n",
    "----"
   ]
  },
  {
   "cell_type": "markdown",
   "metadata": {},
   "source": [
    "#### Question 2: What is the education budget allocation effect on students' academic performance?\n",
    "Data sources: OECD PISA Result<br/>\n",
    "OECD Government budget allocation<br/>"
   ]
  },
  {
   "cell_type": "code",
   "execution_count": 82,
   "metadata": {},
   "outputs": [
    {
     "data": {
      "text/html": [
       "<div>\n",
       "<style scoped>\n",
       "    .dataframe tbody tr th:only-of-type {\n",
       "        vertical-align: middle;\n",
       "    }\n",
       "\n",
       "    .dataframe tbody tr th {\n",
       "        vertical-align: top;\n",
       "    }\n",
       "\n",
       "    .dataframe thead th {\n",
       "        text-align: right;\n",
       "    }\n",
       "</style>\n",
       "<table border=\"1\" class=\"dataframe\">\n",
       "  <thead>\n",
       "    <tr style=\"text-align: right;\">\n",
       "      <th></th>\n",
       "      <th>Country</th>\n",
       "      <th>Year</th>\n",
       "      <th>Reading</th>\n",
       "      <th>Math</th>\n",
       "      <th>Science</th>\n",
       "      <th>Average Students Score</th>\n",
       "      <th>Percent GDP Spent</th>\n",
       "    </tr>\n",
       "  </thead>\n",
       "  <tbody>\n",
       "    <tr>\n",
       "      <th>0</th>\n",
       "      <td>Australia</td>\n",
       "      <td>2006</td>\n",
       "      <td>513</td>\n",
       "      <td>520</td>\n",
       "      <td>527</td>\n",
       "      <td>520.00</td>\n",
       "      <td>4.75359</td>\n",
       "    </tr>\n",
       "    <tr>\n",
       "      <th>1</th>\n",
       "      <td>Australia</td>\n",
       "      <td>2009</td>\n",
       "      <td>515</td>\n",
       "      <td>514</td>\n",
       "      <td>527</td>\n",
       "      <td>518.67</td>\n",
       "      <td>5.09327</td>\n",
       "    </tr>\n",
       "    <tr>\n",
       "      <th>2</th>\n",
       "      <td>Australia</td>\n",
       "      <td>2012</td>\n",
       "      <td>512</td>\n",
       "      <td>504</td>\n",
       "      <td>521</td>\n",
       "      <td>512.33</td>\n",
       "      <td>4.87765</td>\n",
       "    </tr>\n",
       "    <tr>\n",
       "      <th>3</th>\n",
       "      <td>Australia</td>\n",
       "      <td>2015</td>\n",
       "      <td>503</td>\n",
       "      <td>494</td>\n",
       "      <td>510</td>\n",
       "      <td>502.33</td>\n",
       "      <td>5.32175</td>\n",
       "    </tr>\n",
       "    <tr>\n",
       "      <th>4</th>\n",
       "      <td>Austria</td>\n",
       "      <td>2006</td>\n",
       "      <td>490</td>\n",
       "      <td>505</td>\n",
       "      <td>511</td>\n",
       "      <td>502.00</td>\n",
       "      <td>5.22652</td>\n",
       "    </tr>\n",
       "  </tbody>\n",
       "</table>\n",
       "</div>"
      ],
      "text/plain": [
       "     Country  Year  Reading  Math  Science  Average Students Score  \\\n",
       "0  Australia  2006      513   520      527                  520.00   \n",
       "1  Australia  2009      515   514      527                  518.67   \n",
       "2  Australia  2012      512   504      521                  512.33   \n",
       "3  Australia  2015      503   494      510                  502.33   \n",
       "4    Austria  2006      490   505      511                  502.00   \n",
       "\n",
       "   Percent GDP Spent  \n",
       "0            4.75359  \n",
       "1            5.09327  \n",
       "2            4.87765  \n",
       "3            5.32175  \n",
       "4            5.22652  "
      ]
     },
     "execution_count": 82,
     "metadata": {},
     "output_type": "execute_result"
    }
   ],
   "source": [
    "# Merge PISA data and WorldBank data\n",
    "wb_pisa_merged_df = pisa_merged.merge(wb_data_df, how=\"inner\", on=['Country', 'Year'])\n",
    "wb_pisa_merged_df.head()"
   ]
  },
  {
   "cell_type": "markdown",
   "metadata": {},
   "source": [
    "---\n",
    "#### The plot below shows a positive correlation between countries' expenditure on education on all levels and the students' performance on OECD Programme for International Student Assessment. The r-value between the correlation is 0.24. Countries with higher GDP expense allocated to education tends to score higher on Reading, Math, and Science. With the data set pulled from United Nations and World bank ranging from 2000 to 2019, it can be said that there is a causal relationship between education spending and students' performance.\n",
    "---"
   ]
  },
  {
   "cell_type": "code",
   "execution_count": 51,
   "metadata": {},
   "outputs": [
    {
     "name": "stdout",
     "output_type": "stream",
     "text": [
      "The r-squared (absolute) is :0.2362212780270634\n",
      "\n"
     ]
    },
    {
     "data": {
      "image/png": "[encoded data removed]",
      "text/plain": [
       "<Figure size 432x288 with 1 Axes>"
      ]
     },
     "metadata": {
      "needs_background": "light"
     },
     "output_type": "display_data"
    },
    {
     "name": "stdout",
     "output_type": "stream",
     "text": [
      "Plotting successful.\n"
     ]
    }
   ],
   "source": [
    "linreg_plotter(wb_pisa_merged_df, 'Average Students Score', 'Percent GDP Spent')"
   ]
  },
  {
   "cell_type": "code",
   "execution_count": 83,
   "metadata": {},
   "outputs": [
    {
     "data": {
      "text/html": [
       "<div>\n",
       "<style scoped>\n",
       "    .dataframe tbody tr th:only-of-type {\n",
       "        vertical-align: middle;\n",
       "    }\n",
       "\n",
       "    .dataframe tbody tr th {\n",
       "        vertical-align: top;\n",
       "    }\n",
       "\n",
       "    .dataframe thead th {\n",
       "        text-align: right;\n",
       "    }\n",
       "</style>\n",
       "<table border=\"1\" class=\"dataframe\">\n",
       "  <thead>\n",
       "    <tr style=\"text-align: right;\">\n",
       "      <th></th>\n",
       "      <th>Country</th>\n",
       "      <th>Year</th>\n",
       "      <th>Reading</th>\n",
       "      <th>Math</th>\n",
       "      <th>Science</th>\n",
       "      <th>Average Students Score</th>\n",
       "      <th>Per Student Spending</th>\n",
       "    </tr>\n",
       "  </thead>\n",
       "  <tbody>\n",
       "    <tr>\n",
       "      <th>0</th>\n",
       "      <td>Australia</td>\n",
       "      <td>2006</td>\n",
       "      <td>513</td>\n",
       "      <td>520</td>\n",
       "      <td>527</td>\n",
       "      <td>520.00</td>\n",
       "      <td>17.74496</td>\n",
       "    </tr>\n",
       "    <tr>\n",
       "      <th>1</th>\n",
       "      <td>Australia</td>\n",
       "      <td>2009</td>\n",
       "      <td>515</td>\n",
       "      <td>514</td>\n",
       "      <td>527</td>\n",
       "      <td>518.67</td>\n",
       "      <td>19.94908</td>\n",
       "    </tr>\n",
       "    <tr>\n",
       "      <th>2</th>\n",
       "      <td>Australia</td>\n",
       "      <td>2012</td>\n",
       "      <td>512</td>\n",
       "      <td>504</td>\n",
       "      <td>521</td>\n",
       "      <td>512.33</td>\n",
       "      <td>18.17317</td>\n",
       "    </tr>\n",
       "    <tr>\n",
       "      <th>3</th>\n",
       "      <td>Australia</td>\n",
       "      <td>2015</td>\n",
       "      <td>503</td>\n",
       "      <td>494</td>\n",
       "      <td>510</td>\n",
       "      <td>502.33</td>\n",
       "      <td>18.81944</td>\n",
       "    </tr>\n",
       "    <tr>\n",
       "      <th>4</th>\n",
       "      <td>Austria</td>\n",
       "      <td>2006</td>\n",
       "      <td>490</td>\n",
       "      <td>505</td>\n",
       "      <td>511</td>\n",
       "      <td>502.00</td>\n",
       "      <td>22.58595</td>\n",
       "    </tr>\n",
       "  </tbody>\n",
       "</table>\n",
       "</div>"
      ],
      "text/plain": [
       "     Country  Year  Reading  Math  Science  Average Students Score  \\\n",
       "0  Australia  2006      513   520      527                  520.00   \n",
       "1  Australia  2009      515   514      527                  518.67   \n",
       "2  Australia  2012      512   504      521                  512.33   \n",
       "3  Australia  2015      503   494      510                  502.33   \n",
       "4    Austria  2006      490   505      511                  502.00   \n",
       "\n",
       "   Per Student Spending  \n",
       "0              17.74496  \n",
       "1              19.94908  \n",
       "2              18.17317  \n",
       "3              18.81944  \n",
       "4              22.58595  "
      ]
     },
     "execution_count": 83,
     "metadata": {},
     "output_type": "execute_result"
    }
   ],
   "source": [
    "# Merge PISA data and WorldBank data\n",
    "wb_pisa_ps_merged_df = pisa_merged.merge(wb_data_per_student_df, how=\"inner\", on=['Country', 'Year'])\n",
    "wb_pisa_ps_merged_df.head()"
   ]
  },
  {
   "cell_type": "markdown",
   "metadata": {},
   "source": [
    "---\n",
    "#### Although national GDP varies country to country and depends on economic standings, we pulled the GDP Per Capita (GDP % Population) and also saw a positive correlation between the mean students' score and GDP Per Student spending. Note that the OECD Data of \"per student spending\" is the 'average general government expenditure (current, capital, and transfers) per student in the given level of education, expressed as a percentage of GDP per capita.'. \n",
    "---"
   ]
  },
  {
   "cell_type": "code",
   "execution_count": 84,
   "metadata": {},
   "outputs": [
    {
     "name": "stdout",
     "output_type": "stream",
     "text": [
      "The r-squared (absolute) is :0.3672940012232876\n",
      "\n"
     ]
    },
    {
     "data": {
      "image/png": "[encoded data removed]",
      "text/plain": [
       "<Figure size 432x288 with 1 Axes>"
      ]
     },
     "metadata": {
      "needs_background": "light"
     },
     "output_type": "display_data"
    },
    {
     "name": "stdout",
     "output_type": "stream",
     "text": [
      "Plotting successful.\n"
     ]
    }
   ],
   "source": [
    "linreg_plotter(wb_pisa_ps_merged_df, 'Average Students Score', 'Per Student Spending')"
   ]
  },
  {
   "cell_type": "code",
   "execution_count": null,
   "metadata": {},
   "outputs": [],
   "source": [
    "linreg_plotter(wb_pisa_ps_merged_df, 'Average Students Score', 'Per Student Spending')"
   ]
  },
  {
   "cell_type": "code",
   "execution_count": 86,
   "metadata": {},
   "outputs": [
    {
     "data": {
      "text/plain": [
       "Year                    Science                  -0.091197\n",
       "Science                 Year                     -0.091197\n",
       "Year                    Math                     -0.078405\n",
       "Math                    Year                     -0.078405\n",
       "Year                    Per Student Spending     -0.065110\n",
       "Per Student Spending    Year                     -0.065110\n",
       "Year                    Average Students Score   -0.057935\n",
       "Average Students Score  Year                     -0.057935\n",
       "Year                    Reading                   0.008804\n",
       "Reading                 Year                      0.008804\n",
       "Per Student Spending    Reading                   0.338799\n",
       "Reading                 Per Student Spending      0.338799\n",
       "Per Student Spending    Science                   0.356253\n",
       "Science                 Per Student Spending      0.356253\n",
       "Average Students Score  Per Student Spending      0.367294\n",
       "Per Student Spending    Average Students Score    0.367294\n",
       "Math                    Per Student Spending      0.384037\n",
       "Per Student Spending    Math                      0.384037\n",
       "Math                    Reading                   0.935118\n",
       "Reading                 Math                      0.935118\n",
       "Science                 Reading                   0.956719\n",
       "Reading                 Science                   0.956719\n",
       "Math                    Science                   0.958755\n",
       "Science                 Math                      0.958755\n",
       "Reading                 Average Students Score    0.977879\n",
       "Average Students Score  Reading                   0.977879\n",
       "                        Math                      0.983069\n",
       "Math                    Average Students Score    0.983069\n",
       "Science                 Average Students Score    0.988594\n",
       "Average Students Score  Science                   0.988594\n",
       "Year                    Year                      1.000000\n",
       "Science                 Science                   1.000000\n",
       "Math                    Math                      1.000000\n",
       "Reading                 Reading                   1.000000\n",
       "Average Students Score  Average Students Score    1.000000\n",
       "Per Student Spending    Per Student Spending      1.000000\n",
       "dtype: float64"
      ]
     },
     "execution_count": 86,
     "metadata": {},
     "output_type": "execute_result"
    }
   ],
   "source": [
    "wb_pisa_ps_merged_dfcorr = wb_pisa_ps_merged_df.corr()\n",
    "wb_pisa_ps_merged_dfcorr.unstack().sort_values()"
   ]
  },
  {
   "cell_type": "code",
   "execution_count": null,
   "metadata": {},
   "outputs": [],
   "source": []
  }
 ],
 "metadata": {
  "kernelspec": {
   "display_name": "Python [conda env:PythonData] *",
   "language": "python",
   "name": "conda-env-PythonData-py"
  },
  "language_info": {
   "codemirror_mode": {
    "name": "ipython",
    "version": 3
   },
   "file_extension": ".py",
   "mimetype": "text/x-python",
   "name": "python",
   "nbconvert_exporter": "python",
   "pygments_lexer": "ipython3",
   "version": "3.7.5"
  }
 },
 "nbformat": 4,
 "nbformat_minor": 4
}
