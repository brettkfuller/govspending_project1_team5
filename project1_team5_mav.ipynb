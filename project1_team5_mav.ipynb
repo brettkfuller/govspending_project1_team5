{
 "cells": [
  {
   "cell_type": "markdown",
   "metadata": {},
   "source": [
    "# Global Budget Spending Analysis\n",
    "----\n",
    "<i> Project 1 Team 5 </i><br/> \n",
    "Brett Fuller, Diego Jones, Mav Sanchez"
   ]
  },
  {
   "cell_type": "code",
   "execution_count": 1,
   "metadata": {},
   "outputs": [],
   "source": [
    "#Import necessary package dependencies\n",
    "%matplotlib inline\n",
    "\n",
    "import pandas as pd\n",
    "import numpy as np\n",
    "import matplotlib.pyplot as plt\n",
    "import requests\n",
    "import pycountry\n",
    "\n",
    "from pprint import pprint\n",
    "from scipy.stats import linregress\n",
    "\n",
    "#Import API Key\n",
    "from config import *\n",
    "\n",
    "#Define directories\n",
    "source_data_dir = \"source_data\"\n",
    "staging_data_dir = \"staging_data\"\n",
    "target_data_dir = \"target_data\"\n",
    "target_images_dir = \"target_images\""
   ]
  },
  {
   "cell_type": "markdown",
   "metadata": {},
   "source": [
    "### Functions declaration\n",
    "----\n",
    "#####            To be re-used for downstream cells"
   ]
  },
  {
   "cell_type": "code",
   "execution_count": 35,
   "metadata": {},
   "outputs": [],
   "source": [
    "#Standardize country names\n",
    "def get_country_name(isocode3):\n",
    "    try:\n",
    "        if len(isocode3) == 3:\n",
    "            return pycountry.countries.get(alpha_3=isocode3).name\n",
    "        elif len(isocode3) == 2:\n",
    "            return pycountry.countries.get(alpha_2=isocode3).name\n",
    "    except:\n",
    "        return None\n",
    "\n",
    "# Plotters\n",
    "def scatter_plotter(df, x='None', y='None'):\n",
    "    try: \n",
    "        x_axis = df[x]\n",
    "        y_axis = df[y]\n",
    "        plt.title(f\"{x} vs {y}\")\n",
    "        plt.xlabel(x)\n",
    "        plt.ylabel(y)\n",
    "        plt.scatter(x_axis, y_axis, marker='o', facecolors=\"steelblue\", edgecolors=\"black\", alpha=0.75)\n",
    "        plt.grid()\n",
    "        plt.show()\n",
    "        print('Plotting successful.')\n",
    "    except:\n",
    "        print('Plotting unsuccessful. Please review parameters and ensure correct column name is passed')\n",
    "\n",
    "def line_plotter(df, x_param, y_param, color_param):\n",
    "    try:\n",
    "        df.plot(x=x_param,y=y_param,label=y_param,color=color_param,marker='o',linestyle=\"solid\", linewidth=0.75,ms=4)\n",
    "        plt.xlabel(x_param)\n",
    "        plt.ylabel(y_param)\n",
    "        plt.title(f\"{y_param} over {x_param}\")\n",
    "        plt.legend(loc='best')\n",
    "        plt.grid()\n",
    "    except:\n",
    "        print('Plotting unsuccessful. Please review parameters and ensure correct column name is passed')\n",
    "\n",
    "def linreg_plotter(df, x='None', y='None'):\n",
    "    try: \n",
    "        # The plt clf will CLear out the Figure settings, for reusability\n",
    "        plt.clf()\n",
    "        x_values = df[x]\n",
    "        y_values = df[y]\n",
    "\n",
    "        # Calculation of linear regression given x and y values\n",
    "        slope, intercept, rvalue, pvalue, stderr = linregress(x_values, y_values)\n",
    "        regression_values = x_values * slope + intercept\n",
    "        line_eq = f\"y = {round(slope, 2)}x + {round(intercept,2)}\"\n",
    "        print(f\"The r-squared (absolute) is :{abs(rvalue)}\\n\")\n",
    "\n",
    "        #Plot proper\n",
    "        plt.scatter(x_values, y_values, facecolors=\"steelblue\")\n",
    "        plt.plot(x_values, regression_values, 'r-')\n",
    "        plt.annotate(line_eq, (min(x_values)+5, min(y_values)+5), fontsize=15, color=\"red\")\n",
    "\n",
    "        plt.title(f\"{x} vs {y}\")\n",
    "        plt.xlabel(x)\n",
    "        plt.ylabel(y)\n",
    "        #plt.savefig(f\"output_data/LinReg_Latitude_Vs_{factor}_{where.title()}.png\")\n",
    "        plt.show()\n",
    "        print('Plotting successful.')\n",
    "    except:\n",
    "        print('Plotting unsuccessful. Please review parameters and ensure correct column name is passed')\n",
    "\n",
    "def pie_plotter(df, x, y, title):\n",
    "    try:\n",
    "        fig, ax = plt.subplots(figsize=(8, 8))\n",
    "        data = list(df[x])\n",
    "        ax.pie(data, startangle=90,  labels=df[y], autopct='%1.1f%%', textprops={'fontsize': 10})\n",
    "        fig.set_facecolor('white')\n",
    "        ax.set_title(title)\n",
    "        plt.show()\n",
    "        print('Plotting successful.')\n",
    "    except:\n",
    "        print('Plotting unsuccessful. Please review parameters and ensure correct column name is passed')\n",
    "        \n",
    "        \n",
    "# API functions        \n",
    "def call_worldbank(indicator_wb, years_wb):\n",
    "    try:\n",
    "        #World Bank\n",
    "        api_format_wb = \"json\"\n",
    "        # Get the list of Government expenditure on education, total (% of GDP)\n",
    "        response = requests.get(f\"{base_url_worldbank}{indicator_wb}?format={api_format_wb}&date={years_wb}\").json()\n",
    "        observation_size = response[0]['total']\n",
    "        \n",
    "        wb_response = requests.get(f\"{base_url_worldbank}{indicator_wb}?format={api_format_wb}&date={years_wb}&per_page={observation_size}\").json()\n",
    "        wb_data_df = pd.DataFrame(wb_response[1])\n",
    "        print('API Call to World Bank succeeded')  \n",
    "        return wb_data_df\n",
    "    except:\n",
    "        print('API Call to WorldBank failed')\n",
    "        \n",
    "def call_imf(spending_area, year_start, year_end):\n",
    "    try:\n",
    "        FREQ=\"A\"\n",
    "        REF_AREA=spending_area\n",
    "        REF_SECTOR=\"S13\"\n",
    "        UNIT_MEASURE=\"XDC_R_OTE\"\n",
    "        COFOG_FUNCTION=\"\"\n",
    "        START_YEAR=year_start\n",
    "        END_YEAR=year_end\n",
    "        query_url_imf=f\"http://dataservices.imf.org/REST/SDMX_JSON.svc/CompactData/GFSCOFOG/{FREQ}.{REF_AREA}.{REF_SECTOR}.{UNIT_MEASURE}.{COFOG_FUNCTION}?startPeriod={START_YEAR}&endPeriod={END_YEAR}\"\n",
    "        response = requests.get(f\"{query_url_imf}\").json()\n",
    "        print('API Call to IMF succeeded')  \n",
    "        return response\n",
    "    except:\n",
    "        print('API Call to IMF failed')  \n",
    "        \n",
    "def call_oecd(indicator_wb, years_wb):\n",
    "    try:\n",
    "        # Get the list of Government expenditure on education, total (% of GDP)\n",
    "        response = requests.get(f\"{base_url_worldbank}{indicator_wb}?format={api_format_wb}&date={years_wb}\").json()\n",
    "        observation_size = response[0]['total']\n",
    "        \n",
    "        wb_response = requests.get(f\"{base_url_worldbank}{indicator_wb}?format={api_format_wb}&date={years_wb}&per_page={observation_size}\").json()\n",
    "        wb_data_df = pd.DataFrame(wb_response[1])\n",
    "        print('API Call to OECD succeeded')  \n",
    "        return wb_data_df\n",
    "    except:\n",
    "        print('API Call to OECD failed')   "
   ]
  },
  {
   "cell_type": "markdown",
   "metadata": {},
   "source": [
    "### Data extraction\n",
    "----\n",
    "#####            API Calls"
   ]
  },
  {
   "cell_type": "code",
   "execution_count": 3,
   "metadata": {},
   "outputs": [],
   "source": [
    "# Define base URLs for API\n",
    "base_url_oecd =\"https://stats.oecd.org/SDMX-JSON/data/\"\n",
    "base_url_worldbank = \"http://api.worldbank.org/v2/country/all/indicator/\""
   ]
  },
  {
   "cell_type": "code",
   "execution_count": 4,
   "metadata": {},
   "outputs": [
    {
     "name": "stdout",
     "output_type": "stream",
     "text": [
      "API Call to World Bank succeeded\n",
      "API Call to World Bank succeeded\n"
     ]
    }
   ],
   "source": [
    "# Get the list of Government expenditure on education, total (% of GDP)\n",
    "wb_data_df = call_worldbank(\"SE.XPD.TOTL.GD.ZS\", \"2000:2019\") # Government expenditure on education, total (% of GDP)\n",
    "wb_data_df.drop(columns=['indicator', 'country', 'unit', 'obs_status', 'decimal'], axis=1, inplace=True)\n",
    "wb_data_df.rename(columns={'countryiso3code':'Country','date':'Year', 'value': 'Percent GDP Spent'}, inplace=True)\n",
    "wb_data_df.Year = wb_data_df.Year.astype('int64')\n",
    "wb_data_df['Country'] = wb_data_df['Country'].apply(lambda x: get_country_name(x))\n",
    "wb_data_df.dropna(inplace=True)\n",
    "\n",
    "# Get the list of Government expenditure on education, total (% of GDP)\n",
    "wb_data_per_student_df = call_worldbank(\"SE.XPD.PRIM.PC.ZS\", \"2000:2019\") # GDP Capita Per Student\n",
    "wb_data_per_student_df.drop(columns=['indicator', 'country', 'unit', 'obs_status', 'decimal'], axis=1, inplace=True)\n",
    "wb_data_per_student_df.rename(columns={'countryiso3code':'Country','date':'Year', 'value': 'Per Student Spending'}, inplace=True)\n",
    "wb_data_per_student_df.Year = wb_data_per_student_df.Year.astype('int64')\n",
    "wb_data_per_student_df['Country'] = wb_data_per_student_df['Country'].apply(lambda x: get_country_name(x))\n",
    "wb_data_per_student_df.dropna(inplace=True)"
   ]
  },
  {
   "cell_type": "code",
   "execution_count": 5,
   "metadata": {},
   "outputs": [
    {
     "data": {
      "text/html": [
       "<div>\n",
       "<style scoped>\n",
       "    .dataframe tbody tr th:only-of-type {\n",
       "        vertical-align: middle;\n",
       "    }\n",
       "\n",
       "    .dataframe tbody tr th {\n",
       "        vertical-align: top;\n",
       "    }\n",
       "\n",
       "    .dataframe thead th {\n",
       "        text-align: right;\n",
       "    }\n",
       "</style>\n",
       "<table border=\"1\" class=\"dataframe\">\n",
       "  <thead>\n",
       "    <tr style=\"text-align: right;\">\n",
       "      <th></th>\n",
       "      <th>Country</th>\n",
       "      <th>Year</th>\n",
       "      <th>Percent GDP Spent</th>\n",
       "    </tr>\n",
       "  </thead>\n",
       "  <tbody>\n",
       "    <tr>\n",
       "      <th>942</th>\n",
       "      <td>Afghanistan</td>\n",
       "      <td>2017</td>\n",
       "      <td>4.05887</td>\n",
       "    </tr>\n",
       "    <tr>\n",
       "      <th>943</th>\n",
       "      <td>Afghanistan</td>\n",
       "      <td>2016</td>\n",
       "      <td>4.22836</td>\n",
       "    </tr>\n",
       "    <tr>\n",
       "      <th>944</th>\n",
       "      <td>Afghanistan</td>\n",
       "      <td>2015</td>\n",
       "      <td>3.25580</td>\n",
       "    </tr>\n",
       "    <tr>\n",
       "      <th>945</th>\n",
       "      <td>Afghanistan</td>\n",
       "      <td>2014</td>\n",
       "      <td>3.69522</td>\n",
       "    </tr>\n",
       "    <tr>\n",
       "      <th>946</th>\n",
       "      <td>Afghanistan</td>\n",
       "      <td>2013</td>\n",
       "      <td>3.45446</td>\n",
       "    </tr>\n",
       "  </tbody>\n",
       "</table>\n",
       "</div>"
      ],
      "text/plain": [
       "         Country  Year  Percent GDP Spent\n",
       "942  Afghanistan  2017            4.05887\n",
       "943  Afghanistan  2016            4.22836\n",
       "944  Afghanistan  2015            3.25580\n",
       "945  Afghanistan  2014            3.69522\n",
       "946  Afghanistan  2013            3.45446"
      ]
     },
     "execution_count": 5,
     "metadata": {},
     "output_type": "execute_result"
    }
   ],
   "source": [
    "wb_data_df.head()"
   ]
  },
  {
   "cell_type": "code",
   "execution_count": 6,
   "metadata": {},
   "outputs": [
    {
     "data": {
      "text/html": [
       "<div>\n",
       "<style scoped>\n",
       "    .dataframe tbody tr th:only-of-type {\n",
       "        vertical-align: middle;\n",
       "    }\n",
       "\n",
       "    .dataframe tbody tr th {\n",
       "        vertical-align: top;\n",
       "    }\n",
       "\n",
       "    .dataframe thead th {\n",
       "        text-align: right;\n",
       "    }\n",
       "</style>\n",
       "<table border=\"1\" class=\"dataframe\">\n",
       "  <thead>\n",
       "    <tr style=\"text-align: right;\">\n",
       "      <th></th>\n",
       "      <th>Country</th>\n",
       "      <th>Year</th>\n",
       "      <th>Per Student Spending</th>\n",
       "    </tr>\n",
       "  </thead>\n",
       "  <tbody>\n",
       "    <tr>\n",
       "      <th>942</th>\n",
       "      <td>Afghanistan</td>\n",
       "      <td>2017</td>\n",
       "      <td>10.02208</td>\n",
       "    </tr>\n",
       "    <tr>\n",
       "      <th>944</th>\n",
       "      <td>Afghanistan</td>\n",
       "      <td>2015</td>\n",
       "      <td>8.32950</td>\n",
       "    </tr>\n",
       "    <tr>\n",
       "      <th>945</th>\n",
       "      <td>Afghanistan</td>\n",
       "      <td>2014</td>\n",
       "      <td>9.65715</td>\n",
       "    </tr>\n",
       "    <tr>\n",
       "      <th>946</th>\n",
       "      <td>Afghanistan</td>\n",
       "      <td>2013</td>\n",
       "      <td>9.25884</td>\n",
       "    </tr>\n",
       "    <tr>\n",
       "      <th>947</th>\n",
       "      <td>Afghanistan</td>\n",
       "      <td>2012</td>\n",
       "      <td>7.34472</td>\n",
       "    </tr>\n",
       "  </tbody>\n",
       "</table>\n",
       "</div>"
      ],
      "text/plain": [
       "         Country  Year  Per Student Spending\n",
       "942  Afghanistan  2017              10.02208\n",
       "944  Afghanistan  2015               8.32950\n",
       "945  Afghanistan  2014               9.65715\n",
       "946  Afghanistan  2013               9.25884\n",
       "947  Afghanistan  2012               7.34472"
      ]
     },
     "execution_count": 6,
     "metadata": {},
     "output_type": "execute_result"
    }
   ],
   "source": [
    "wb_data_per_student_df.head()"
   ]
  },
  {
   "cell_type": "markdown",
   "metadata": {},
   "source": [
    "#####            CSV Load"
   ]
  },
  {
   "cell_type": "code",
   "execution_count": 7,
   "metadata": {},
   "outputs": [],
   "source": [
    "# Load raw CSV files to data frame\n",
    "pisa_science = pd.read_csv(f\"{source_data_dir}/pisa_science_2006_2015.csv\")\n",
    "pisa_math = pd.read_csv(f\"{source_data_dir}/pisa_math_2003_2015.csv\")\n",
    "pisa_reading  = pd.read_csv(f\"{source_data_dir}/pisa_read_2000_2015.csv\")"
   ]
  },
  {
   "cell_type": "markdown",
   "metadata": {},
   "source": [
    "### Data cleansing\n",
    "----"
   ]
  },
  {
   "cell_type": "code",
   "execution_count": 8,
   "metadata": {},
   "outputs": [
    {
     "data": {
      "text/html": [
       "<div>\n",
       "<style scoped>\n",
       "    .dataframe tbody tr th:only-of-type {\n",
       "        vertical-align: middle;\n",
       "    }\n",
       "\n",
       "    .dataframe tbody tr th {\n",
       "        vertical-align: top;\n",
       "    }\n",
       "\n",
       "    .dataframe thead th {\n",
       "        text-align: right;\n",
       "    }\n",
       "</style>\n",
       "<table border=\"1\" class=\"dataframe\">\n",
       "  <thead>\n",
       "    <tr style=\"text-align: right;\">\n",
       "      <th></th>\n",
       "      <th>Country</th>\n",
       "      <th>Year</th>\n",
       "      <th>Reading</th>\n",
       "      <th>Math</th>\n",
       "      <th>Science</th>\n",
       "      <th>Average Students Score</th>\n",
       "    </tr>\n",
       "  </thead>\n",
       "  <tbody>\n",
       "    <tr>\n",
       "      <th>0</th>\n",
       "      <td>Australia</td>\n",
       "      <td>2006</td>\n",
       "      <td>513</td>\n",
       "      <td>520</td>\n",
       "      <td>527</td>\n",
       "      <td>520.00</td>\n",
       "    </tr>\n",
       "    <tr>\n",
       "      <th>1</th>\n",
       "      <td>Australia</td>\n",
       "      <td>2009</td>\n",
       "      <td>515</td>\n",
       "      <td>514</td>\n",
       "      <td>527</td>\n",
       "      <td>518.67</td>\n",
       "    </tr>\n",
       "    <tr>\n",
       "      <th>2</th>\n",
       "      <td>Australia</td>\n",
       "      <td>2012</td>\n",
       "      <td>512</td>\n",
       "      <td>504</td>\n",
       "      <td>521</td>\n",
       "      <td>512.33</td>\n",
       "    </tr>\n",
       "    <tr>\n",
       "      <th>3</th>\n",
       "      <td>Australia</td>\n",
       "      <td>2015</td>\n",
       "      <td>503</td>\n",
       "      <td>494</td>\n",
       "      <td>510</td>\n",
       "      <td>502.33</td>\n",
       "    </tr>\n",
       "    <tr>\n",
       "      <th>4</th>\n",
       "      <td>Austria</td>\n",
       "      <td>2006</td>\n",
       "      <td>490</td>\n",
       "      <td>505</td>\n",
       "      <td>511</td>\n",
       "      <td>502.00</td>\n",
       "    </tr>\n",
       "  </tbody>\n",
       "</table>\n",
       "</div>"
      ],
      "text/plain": [
       "     Country  Year  Reading  Math  Science  Average Students Score\n",
       "0  Australia  2006      513   520      527                  520.00\n",
       "1  Australia  2009      515   514      527                  518.67\n",
       "2  Australia  2012      512   504      521                  512.33\n",
       "3  Australia  2015      503   494      510                  502.33\n",
       "4    Austria  2006      490   505      511                  502.00"
      ]
     },
     "execution_count": 8,
     "metadata": {},
     "output_type": "execute_result"
    }
   ],
   "source": [
    "# Only pull data older than 2006\n",
    "pisa_reading = pisa_reading.loc[pisa_reading['TIME']>=2006,['LOCATION','INDICATOR', 'TIME','Value'] ]\n",
    "pisa_math = pisa_math.loc[pisa_math['TIME']>=2006,['LOCATION','INDICATOR', 'TIME','Value']]\n",
    "pisa_science = pisa_science.loc[pisa_science['TIME']>=2006,['LOCATION','INDICATOR', 'TIME','Value']]\n",
    "\n",
    "#Merge all Reading, Math, Science data\n",
    "pisa_merged = pisa_reading.merge(pisa_math, how=\"inner\", on=['LOCATION', 'TIME'], suffixes=('_READING', '_MATH'))\n",
    "pisa_merged = pisa_merged.merge(pisa_science, how=\"inner\", on=['LOCATION', 'TIME'], suffixes=('','_SCIENCE'))\n",
    "pisa_merged = pisa_merged[['LOCATION','TIME', 'Value_READING','Value_MATH', 'Value']]\n",
    "\n",
    "# Rename columns and create a new column, 'Average Students Score', to calculate mean score among all subjects (PISA-standard)\n",
    "pisa_merged = pisa_merged.rename(columns={'LOCATION' : 'Country','TIME': 'Year', 'Value_READING':'Reading','Value_MATH':'Math', 'Value':'Science'})\n",
    "pisa_merged['Average Students Score'] = pisa_merged[['Reading','Math','Science']].mean(axis=1).round(2)\n",
    "\n",
    "# Transform ISO3 codes countries to their corresponding pycountry name\n",
    "pisa_merged['Country'] = pisa_merged['Country'].apply(lambda x: get_country_name(x))\n",
    "pisa_merged.dropna()\n",
    "pisa_merged.head()"
   ]
  },
  {
   "cell_type": "markdown",
   "metadata": {},
   "source": [
    "### Data analysis\n",
    "----"
   ]
  },
  {
   "cell_type": "markdown",
   "metadata": {},
   "source": [
    "#### Question 2: What is the education budget allocation effect on students' academic performance?\n",
    "Data sources: \n",
    "- OECD PISA Result<br/>\n",
    "- OECD Government budget allocation<br/>"
   ]
  },
  {
   "cell_type": "code",
   "execution_count": 9,
   "metadata": {},
   "outputs": [
    {
     "data": {
      "text/html": [
       "<div>\n",
       "<style scoped>\n",
       "    .dataframe tbody tr th:only-of-type {\n",
       "        vertical-align: middle;\n",
       "    }\n",
       "\n",
       "    .dataframe tbody tr th {\n",
       "        vertical-align: top;\n",
       "    }\n",
       "\n",
       "    .dataframe thead th {\n",
       "        text-align: right;\n",
       "    }\n",
       "</style>\n",
       "<table border=\"1\" class=\"dataframe\">\n",
       "  <thead>\n",
       "    <tr style=\"text-align: right;\">\n",
       "      <th></th>\n",
       "      <th>Country</th>\n",
       "      <th>Year</th>\n",
       "      <th>Reading</th>\n",
       "      <th>Math</th>\n",
       "      <th>Science</th>\n",
       "      <th>Average Students Score</th>\n",
       "      <th>Percent GDP Spent</th>\n",
       "    </tr>\n",
       "  </thead>\n",
       "  <tbody>\n",
       "    <tr>\n",
       "      <th>0</th>\n",
       "      <td>Australia</td>\n",
       "      <td>2006</td>\n",
       "      <td>513</td>\n",
       "      <td>520</td>\n",
       "      <td>527</td>\n",
       "      <td>520.00</td>\n",
       "      <td>4.75359</td>\n",
       "    </tr>\n",
       "    <tr>\n",
       "      <th>1</th>\n",
       "      <td>Australia</td>\n",
       "      <td>2009</td>\n",
       "      <td>515</td>\n",
       "      <td>514</td>\n",
       "      <td>527</td>\n",
       "      <td>518.67</td>\n",
       "      <td>5.09327</td>\n",
       "    </tr>\n",
       "    <tr>\n",
       "      <th>2</th>\n",
       "      <td>Australia</td>\n",
       "      <td>2012</td>\n",
       "      <td>512</td>\n",
       "      <td>504</td>\n",
       "      <td>521</td>\n",
       "      <td>512.33</td>\n",
       "      <td>4.87765</td>\n",
       "    </tr>\n",
       "    <tr>\n",
       "      <th>3</th>\n",
       "      <td>Australia</td>\n",
       "      <td>2015</td>\n",
       "      <td>503</td>\n",
       "      <td>494</td>\n",
       "      <td>510</td>\n",
       "      <td>502.33</td>\n",
       "      <td>5.32175</td>\n",
       "    </tr>\n",
       "    <tr>\n",
       "      <th>4</th>\n",
       "      <td>Austria</td>\n",
       "      <td>2006</td>\n",
       "      <td>490</td>\n",
       "      <td>505</td>\n",
       "      <td>511</td>\n",
       "      <td>502.00</td>\n",
       "      <td>5.22652</td>\n",
       "    </tr>\n",
       "  </tbody>\n",
       "</table>\n",
       "</div>"
      ],
      "text/plain": [
       "     Country  Year  Reading  Math  Science  Average Students Score  \\\n",
       "0  Australia  2006      513   520      527                  520.00   \n",
       "1  Australia  2009      515   514      527                  518.67   \n",
       "2  Australia  2012      512   504      521                  512.33   \n",
       "3  Australia  2015      503   494      510                  502.33   \n",
       "4    Austria  2006      490   505      511                  502.00   \n",
       "\n",
       "   Percent GDP Spent  \n",
       "0            4.75359  \n",
       "1            5.09327  \n",
       "2            4.87765  \n",
       "3            5.32175  \n",
       "4            5.22652  "
      ]
     },
     "execution_count": 9,
     "metadata": {},
     "output_type": "execute_result"
    }
   ],
   "source": [
    "# Merge PISA data and WorldBank data\n",
    "wb_pisa_merged_df = pisa_merged.merge(wb_data_df, how=\"inner\", on=['Country', 'Year'])\n",
    "wb_pisa_merged_df.head()"
   ]
  },
  {
   "cell_type": "markdown",
   "metadata": {},
   "source": [
    "---\n",
    "#### The plot below shows a positive correlation between countries' expenditure on education on all levels and the students' performance on OECD Programme for International Student Assessment. The r-value between the correlation is 0.24. Countries with higher GDP expense allocated to education tends to score higher on Reading, Math, and Science. With the data set pulled from United Nations and World bank ranging from 2000 to 2019, it can be said that there is a causal relationship between education spending and students' performance.\n",
    "---"
   ]
  },
  {
   "cell_type": "code",
   "execution_count": 10,
   "metadata": {},
   "outputs": [
    {
     "name": "stdout",
     "output_type": "stream",
     "text": [
      "The r-squared (absolute) is :0.2362212780270634\n",
      "\n"
     ]
    },
    {
     "data": {
      "image/png": "[encoded data removed]",
      "text/plain": [
       "<Figure size 432x288 with 1 Axes>"
      ]
     },
     "metadata": {
      "needs_background": "light"
     },
     "output_type": "display_data"
    },
    {
     "name": "stdout",
     "output_type": "stream",
     "text": [
      "Plotting successful.\n"
     ]
    }
   ],
   "source": [
    "linreg_plotter(wb_pisa_merged_df, 'Average Students Score', 'Percent GDP Spent')"
   ]
  },
  {
   "cell_type": "code",
   "execution_count": 11,
   "metadata": {},
   "outputs": [
    {
     "data": {
      "text/html": [
       "<div>\n",
       "<style scoped>\n",
       "    .dataframe tbody tr th:only-of-type {\n",
       "        vertical-align: middle;\n",
       "    }\n",
       "\n",
       "    .dataframe tbody tr th {\n",
       "        vertical-align: top;\n",
       "    }\n",
       "\n",
       "    .dataframe thead th {\n",
       "        text-align: right;\n",
       "    }\n",
       "</style>\n",
       "<table border=\"1\" class=\"dataframe\">\n",
       "  <thead>\n",
       "    <tr style=\"text-align: right;\">\n",
       "      <th></th>\n",
       "      <th>Country</th>\n",
       "      <th>Year</th>\n",
       "      <th>Reading</th>\n",
       "      <th>Math</th>\n",
       "      <th>Science</th>\n",
       "      <th>Average Students Score</th>\n",
       "      <th>Per Student Spending</th>\n",
       "    </tr>\n",
       "  </thead>\n",
       "  <tbody>\n",
       "    <tr>\n",
       "      <th>0</th>\n",
       "      <td>Australia</td>\n",
       "      <td>2006</td>\n",
       "      <td>513</td>\n",
       "      <td>520</td>\n",
       "      <td>527</td>\n",
       "      <td>520.00</td>\n",
       "      <td>17.74496</td>\n",
       "    </tr>\n",
       "    <tr>\n",
       "      <th>1</th>\n",
       "      <td>Australia</td>\n",
       "      <td>2009</td>\n",
       "      <td>515</td>\n",
       "      <td>514</td>\n",
       "      <td>527</td>\n",
       "      <td>518.67</td>\n",
       "      <td>19.94908</td>\n",
       "    </tr>\n",
       "    <tr>\n",
       "      <th>2</th>\n",
       "      <td>Australia</td>\n",
       "      <td>2012</td>\n",
       "      <td>512</td>\n",
       "      <td>504</td>\n",
       "      <td>521</td>\n",
       "      <td>512.33</td>\n",
       "      <td>18.17317</td>\n",
       "    </tr>\n",
       "    <tr>\n",
       "      <th>3</th>\n",
       "      <td>Australia</td>\n",
       "      <td>2015</td>\n",
       "      <td>503</td>\n",
       "      <td>494</td>\n",
       "      <td>510</td>\n",
       "      <td>502.33</td>\n",
       "      <td>18.81944</td>\n",
       "    </tr>\n",
       "    <tr>\n",
       "      <th>4</th>\n",
       "      <td>Austria</td>\n",
       "      <td>2006</td>\n",
       "      <td>490</td>\n",
       "      <td>505</td>\n",
       "      <td>511</td>\n",
       "      <td>502.00</td>\n",
       "      <td>22.58595</td>\n",
       "    </tr>\n",
       "  </tbody>\n",
       "</table>\n",
       "</div>"
      ],
      "text/plain": [
       "     Country  Year  Reading  Math  Science  Average Students Score  \\\n",
       "0  Australia  2006      513   520      527                  520.00   \n",
       "1  Australia  2009      515   514      527                  518.67   \n",
       "2  Australia  2012      512   504      521                  512.33   \n",
       "3  Australia  2015      503   494      510                  502.33   \n",
       "4    Austria  2006      490   505      511                  502.00   \n",
       "\n",
       "   Per Student Spending  \n",
       "0              17.74496  \n",
       "1              19.94908  \n",
       "2              18.17317  \n",
       "3              18.81944  \n",
       "4              22.58595  "
      ]
     },
     "execution_count": 11,
     "metadata": {},
     "output_type": "execute_result"
    }
   ],
   "source": [
    "# Merge PISA data and WorldBank data\n",
    "wb_pisa_ps_merged_df = pisa_merged.merge(wb_data_per_student_df, how=\"inner\", on=['Country', 'Year'])\n",
    "wb_pisa_ps_merged_df.head()"
   ]
  },
  {
   "cell_type": "markdown",
   "metadata": {},
   "source": [
    "---\n",
    "#### Although national GDP varies country to country and depends on economic standings, we pulled the GDP Per Capita (GDP % Population) and also saw a positive correlation between the mean students' score and GDP Per Student spending. Note that the OECD Data of \"per student spending\" is the 'average general government expenditure (current, capital, and transfers) per student in the given level of education, expressed as a percentage of GDP per capita.'. \n",
    "---"
   ]
  },
  {
   "cell_type": "code",
   "execution_count": 12,
   "metadata": {},
   "outputs": [
    {
     "name": "stdout",
     "output_type": "stream",
     "text": [
      "The r-squared (absolute) is :0.3672940012232876\n",
      "\n"
     ]
    },
    {
     "data": {
      "image/png": "[encoded data removed]",
      "text/plain": [
       "<Figure size 432x288 with 1 Axes>"
      ]
     },
     "metadata": {
      "needs_background": "light"
     },
     "output_type": "display_data"
    },
    {
     "name": "stdout",
     "output_type": "stream",
     "text": [
      "Plotting successful.\n"
     ]
    }
   ],
   "source": [
    "linreg_plotter(wb_pisa_ps_merged_df, 'Average Students Score', 'Per Student Spending')"
   ]
  },
  {
   "cell_type": "markdown",
   "metadata": {},
   "source": [
    "#### Question 3: What are the possible Government Expenses that can be linked to CO2 emmissions? \n",
    "Data sources: <br/>\n",
    "- <b> WorldBank Total greenhouse gas emissions </b> in kt of CO2 equivalent are composed of CO2 totals excluding short-cycle biomass burning (such as agricultural waste burning and Savannah burning) but including other biomass burning (such as forest fires, post-burn decay, peat fires and decay of drained peatlands), all anthropogenic CH4 sources, N2O sources and F-gases (HFCs, PFCs and SF6). <br/>\n",
    "- IMF API Government Finance Statistics (GFS), Expenditure by Function of Government (COFOG)"
   ]
  },
  {
   "cell_type": "code",
   "execution_count": 13,
   "metadata": {},
   "outputs": [
    {
     "name": "stdout",
     "output_type": "stream",
     "text": [
      "API Call to World Bank succeeded\n"
     ]
    },
    {
     "data": {
      "text/html": [
       "<div>\n",
       "<style scoped>\n",
       "    .dataframe tbody tr th:only-of-type {\n",
       "        vertical-align: middle;\n",
       "    }\n",
       "\n",
       "    .dataframe tbody tr th {\n",
       "        vertical-align: top;\n",
       "    }\n",
       "\n",
       "    .dataframe thead th {\n",
       "        text-align: right;\n",
       "    }\n",
       "</style>\n",
       "<table border=\"1\" class=\"dataframe\">\n",
       "  <thead>\n",
       "    <tr style=\"text-align: right;\">\n",
       "      <th></th>\n",
       "      <th>Country</th>\n",
       "      <th>Year</th>\n",
       "      <th>CO2 Emissions (Kilo Ton)</th>\n",
       "    </tr>\n",
       "  </thead>\n",
       "  <tbody>\n",
       "    <tr>\n",
       "      <th>945</th>\n",
       "      <td>Afghanistan</td>\n",
       "      <td>2014</td>\n",
       "      <td>9809.225</td>\n",
       "    </tr>\n",
       "    <tr>\n",
       "      <th>946</th>\n",
       "      <td>Afghanistan</td>\n",
       "      <td>2013</td>\n",
       "      <td>10014.577</td>\n",
       "    </tr>\n",
       "    <tr>\n",
       "      <th>947</th>\n",
       "      <td>Afghanistan</td>\n",
       "      <td>2012</td>\n",
       "      <td>10755.311</td>\n",
       "    </tr>\n",
       "    <tr>\n",
       "      <th>948</th>\n",
       "      <td>Afghanistan</td>\n",
       "      <td>2011</td>\n",
       "      <td>12240.446</td>\n",
       "    </tr>\n",
       "    <tr>\n",
       "      <th>949</th>\n",
       "      <td>Afghanistan</td>\n",
       "      <td>2010</td>\n",
       "      <td>8463.436</td>\n",
       "    </tr>\n",
       "  </tbody>\n",
       "</table>\n",
       "</div>"
      ],
      "text/plain": [
       "         Country  Year  CO2 Emissions (Kilo Ton)\n",
       "945  Afghanistan  2014                  9809.225\n",
       "946  Afghanistan  2013                 10014.577\n",
       "947  Afghanistan  2012                 10755.311\n",
       "948  Afghanistan  2011                 12240.446\n",
       "949  Afghanistan  2010                  8463.436"
      ]
     },
     "execution_count": 13,
     "metadata": {},
     "output_type": "execute_result"
    }
   ],
   "source": [
    "# Call CO2 API from World Bank\n",
    "wb_co2_emissions_df = call_worldbank(\"EN.ATM.CO2E.KT\",\"2000:2019\")\n",
    "wb_co2_emissions_df.drop(columns=['indicator', 'country', 'unit', 'obs_status', 'decimal'], axis=1, inplace=True)\n",
    "wb_co2_emissions_df.rename(columns={'countryiso3code':'Country','date':'Year', 'value': 'CO2 Emissions (Kilo Ton)'}, inplace=True)\n",
    "wb_co2_emissions_df.Year = wb_co2_emissions_df.Year.astype('int64')\n",
    "wb_co2_emissions_df['Country'] = wb_co2_emissions_df['Country'].apply(lambda x: get_country_name(x))\n",
    "wb_co2_emissions_df.dropna(inplace=True)\n",
    "wb_co2_emissions_df.head()"
   ]
  },
  {
   "cell_type": "code",
   "execution_count": 14,
   "metadata": {},
   "outputs": [
    {
     "name": "stdout",
     "output_type": "stream",
     "text": [
      "API Call to IMF succeeded\n"
     ]
    }
   ],
   "source": [
    "# Call IMF API Government Finance Statistics (GFS), Expenditure by Function of Government (COFOG) from 2000 to 2016\n",
    "imf_response = call_imf(\"\", 2000, 2019)\n",
    "imf_df = pd.DataFrame(imf_response['CompactData']['DataSet']['Series'])\n",
    "imf_raw_df = pd.DataFrame({ 'Country' : imf_df['@REF_AREA'], 'Area' : imf_df['@COFOG_FUNCTION'],'Obs' : imf_df['Obs'] })\n",
    "imf_raw_df = imf_raw_df.dropna()\n",
    "\n",
    "# Create a Data frame from response\n",
    "country = []\n",
    "expense_type = []\n",
    "year = []\n",
    "value = []\n",
    "for index, row in imf_raw_df.iterrows(): \n",
    "    for i in row['Obs']:\n",
    "        try:\n",
    "            value.append(i['@OBS_VALUE'])\n",
    "            country.append(row['Country'])\n",
    "            expense_type.append(row['Area'])\n",
    "            year.append(i['@TIME_PERIOD'])\n",
    "        except:\n",
    "            pass"
   ]
  },
  {
   "cell_type": "code",
   "execution_count": 15,
   "metadata": {},
   "outputs": [
    {
     "data": {
      "text/html": [
       "<div>\n",
       "<style scoped>\n",
       "    .dataframe tbody tr th:only-of-type {\n",
       "        vertical-align: middle;\n",
       "    }\n",
       "\n",
       "    .dataframe tbody tr th {\n",
       "        vertical-align: top;\n",
       "    }\n",
       "\n",
       "    .dataframe thead th {\n",
       "        text-align: right;\n",
       "    }\n",
       "</style>\n",
       "<table border=\"1\" class=\"dataframe\">\n",
       "  <thead>\n",
       "    <tr style=\"text-align: right;\">\n",
       "      <th></th>\n",
       "      <th>Country</th>\n",
       "      <th>Government Function</th>\n",
       "      <th>Year</th>\n",
       "      <th>Percent of GDP Expense</th>\n",
       "    </tr>\n",
       "  </thead>\n",
       "  <tbody>\n",
       "    <tr>\n",
       "      <th>0</th>\n",
       "      <td>United Arab Emirates</td>\n",
       "      <td>GF01</td>\n",
       "      <td>2011</td>\n",
       "      <td>44.564890</td>\n",
       "    </tr>\n",
       "    <tr>\n",
       "      <th>1</th>\n",
       "      <td>United Arab Emirates</td>\n",
       "      <td>GF01</td>\n",
       "      <td>2012</td>\n",
       "      <td>41.933173</td>\n",
       "    </tr>\n",
       "    <tr>\n",
       "      <th>2</th>\n",
       "      <td>United Arab Emirates</td>\n",
       "      <td>GF01</td>\n",
       "      <td>2013</td>\n",
       "      <td>47.822993</td>\n",
       "    </tr>\n",
       "    <tr>\n",
       "      <th>3</th>\n",
       "      <td>United Arab Emirates</td>\n",
       "      <td>GF01</td>\n",
       "      <td>2014</td>\n",
       "      <td>49.104476</td>\n",
       "    </tr>\n",
       "    <tr>\n",
       "      <th>4</th>\n",
       "      <td>United Arab Emirates</td>\n",
       "      <td>GF01</td>\n",
       "      <td>2015</td>\n",
       "      <td>40.835322</td>\n",
       "    </tr>\n",
       "  </tbody>\n",
       "</table>\n",
       "</div>"
      ],
      "text/plain": [
       "                Country Government Function  Year  Percent of GDP Expense\n",
       "0  United Arab Emirates                GF01  2011               44.564890\n",
       "1  United Arab Emirates                GF01  2012               41.933173\n",
       "2  United Arab Emirates                GF01  2013               47.822993\n",
       "3  United Arab Emirates                GF01  2014               49.104476\n",
       "4  United Arab Emirates                GF01  2015               40.835322"
      ]
     },
     "execution_count": 15,
     "metadata": {},
     "output_type": "execute_result"
    }
   ],
   "source": [
    "# Create Data Frame from the curated data\n",
    "imf_gov_expenses_df = pd.DataFrame({\n",
    "    'Country' : country ,\n",
    "    'Government Function' : expense_type,\n",
    "    'Year' : year,\n",
    "    'Percent of GDP Expense' : value\n",
    "})\n",
    "\n",
    "# Perform data clean up. Standardize Year data type to int, use pycountry to get country name, drop nulls\n",
    "imf_gov_expenses_df.Year = imf_gov_expenses_df.Year.astype('int64')\n",
    "imf_gov_expenses_df['Percent of GDP Expense'] = imf_gov_expenses_df['Percent of GDP Expense'].astype('float')\n",
    "imf_gov_expenses_df['Country'] = imf_gov_expenses_df['Country'].apply(lambda x: get_country_name(x))\n",
    "imf_gov_expenses_df = imf_gov_expenses_df.dropna()\n",
    "imf_gov_expenses_df.head()"
   ]
  },
  {
   "cell_type": "code",
   "execution_count": 16,
   "metadata": {},
   "outputs": [
    {
     "data": {
      "text/html": [
       "<div>\n",
       "<style scoped>\n",
       "    .dataframe tbody tr th:only-of-type {\n",
       "        vertical-align: middle;\n",
       "    }\n",
       "\n",
       "    .dataframe tbody tr th {\n",
       "        vertical-align: top;\n",
       "    }\n",
       "\n",
       "    .dataframe thead th {\n",
       "        text-align: right;\n",
       "    }\n",
       "</style>\n",
       "<table border=\"1\" class=\"dataframe\">\n",
       "  <thead>\n",
       "    <tr style=\"text-align: right;\">\n",
       "      <th></th>\n",
       "      <th>Dimension Code</th>\n",
       "      <th>Dimension Description</th>\n",
       "      <th>Item Code</th>\n",
       "      <th>Item Description</th>\n",
       "    </tr>\n",
       "  </thead>\n",
       "  <tbody>\n",
       "    <tr>\n",
       "      <th>0</th>\n",
       "      <td>CL_UNIT_MULT</td>\n",
       "      <td>Scale</td>\n",
       "      <td>0</td>\n",
       "      <td>Units</td>\n",
       "    </tr>\n",
       "    <tr>\n",
       "      <th>1</th>\n",
       "      <td>CL_UNIT_MULT</td>\n",
       "      <td>Scale</td>\n",
       "      <td>2</td>\n",
       "      <td>Hundreds</td>\n",
       "    </tr>\n",
       "    <tr>\n",
       "      <th>2</th>\n",
       "      <td>CL_UNIT_MULT</td>\n",
       "      <td>Scale</td>\n",
       "      <td>3</td>\n",
       "      <td>Thousands</td>\n",
       "    </tr>\n",
       "    <tr>\n",
       "      <th>3</th>\n",
       "      <td>CL_UNIT_MULT</td>\n",
       "      <td>Scale</td>\n",
       "      <td>6</td>\n",
       "      <td>Millions</td>\n",
       "    </tr>\n",
       "    <tr>\n",
       "      <th>4</th>\n",
       "      <td>CL_UNIT_MULT</td>\n",
       "      <td>Scale</td>\n",
       "      <td>9</td>\n",
       "      <td>Billions</td>\n",
       "    </tr>\n",
       "  </tbody>\n",
       "</table>\n",
       "</div>"
      ],
      "text/plain": [
       "  Dimension Code Dimension Description Item Code Item Description\n",
       "0   CL_UNIT_MULT                 Scale         0            Units\n",
       "1   CL_UNIT_MULT                 Scale         2         Hundreds\n",
       "2   CL_UNIT_MULT                 Scale         3        Thousands\n",
       "3   CL_UNIT_MULT                 Scale         6         Millions\n",
       "4   CL_UNIT_MULT                 Scale         9         Billions"
      ]
     },
     "execution_count": 16,
     "metadata": {},
     "output_type": "execute_result"
    }
   ],
   "source": [
    "# # ONE TIME ONLY - DO NOT REMOVE Data available in staging_data folder\n",
    "# # Pulls all the codes from IMF\n",
    "# get_data_struct_imf=\"http://dataservices.imf.org/REST/SDMX_JSON.svc/DataStructure/GFSCOFOG\"\n",
    "# response = requests.get(f\"{get_data_struct_imf}\").json()\n",
    "# dimension = []\n",
    "# dimension_name = []\n",
    "# item_code = []\n",
    "# item_description = []\n",
    "# for x in response['Structure']['CodeLists']['CodeList']:\n",
    "#     for i in x['Code']:\n",
    "#         dimension.append(x['@id'])\n",
    "#         dimension_name.append(x['Name']['#text'])\n",
    "#         item_code.append(i['@value'])\n",
    "#         item_description.append(i['Description']['#text'])\n",
    "\n",
    "# imf_cofog_codes = pd.DataFrame({\n",
    "#     'Dimension Code' : dimension,\n",
    "#     'Dimension Description' : dimension_name,\n",
    "#     'Item Code' : item_code, \n",
    "#     'Item Description' : item_description\n",
    "# })\n",
    "# imf_cofog_codes.to_csv(f\"{staging_data_dir}/imf_codes.csv\", index=False)\n",
    "imf_cofog_codes_df = pd.read_csv(f\"{staging_data_dir}/imf_codes.csv\")\n",
    "imf_cofog_codes_df.head()"
   ]
  },
  {
   "cell_type": "code",
   "execution_count": 17,
   "metadata": {},
   "outputs": [
    {
     "data": {
      "text/html": [
       "<div>\n",
       "<style scoped>\n",
       "    .dataframe tbody tr th:only-of-type {\n",
       "        vertical-align: middle;\n",
       "    }\n",
       "\n",
       "    .dataframe tbody tr th {\n",
       "        vertical-align: top;\n",
       "    }\n",
       "\n",
       "    .dataframe thead th {\n",
       "        text-align: right;\n",
       "    }\n",
       "</style>\n",
       "<table border=\"1\" class=\"dataframe\">\n",
       "  <thead>\n",
       "    <tr style=\"text-align: right;\">\n",
       "      <th>Item Description</th>\n",
       "      <th>Country</th>\n",
       "      <th>Year</th>\n",
       "      <th>Expenditure on defense</th>\n",
       "      <th>Expenditure on economic affairs</th>\n",
       "      <th>Expenditure on education</th>\n",
       "      <th>Expenditure on environment protection</th>\n",
       "      <th>Expenditure on general public services</th>\n",
       "      <th>Expenditure on health</th>\n",
       "      <th>Expenditure on housing &amp; community amenities</th>\n",
       "      <th>Expenditure on public order &amp; safety</th>\n",
       "      <th>Expenditure on recreation, culture, &amp; religion</th>\n",
       "      <th>Expenditure on social protection</th>\n",
       "    </tr>\n",
       "  </thead>\n",
       "  <tbody>\n",
       "    <tr>\n",
       "      <th>0</th>\n",
       "      <td>Afghanistan</td>\n",
       "      <td>2006</td>\n",
       "      <td>6.846308</td>\n",
       "      <td>46.588004</td>\n",
       "      <td>14.559212</td>\n",
       "      <td>1.669115</td>\n",
       "      <td>10.966231</td>\n",
       "      <td>4.310958</td>\n",
       "      <td>1.615463</td>\n",
       "      <td>9.713450</td>\n",
       "      <td>0.972549</td>\n",
       "      <td>2.758762</td>\n",
       "    </tr>\n",
       "    <tr>\n",
       "      <th>1</th>\n",
       "      <td>Afghanistan</td>\n",
       "      <td>2007</td>\n",
       "      <td>7.735393</td>\n",
       "      <td>47.110128</td>\n",
       "      <td>10.814692</td>\n",
       "      <td>0.368395</td>\n",
       "      <td>10.820965</td>\n",
       "      <td>6.155899</td>\n",
       "      <td>3.201320</td>\n",
       "      <td>9.053316</td>\n",
       "      <td>1.223244</td>\n",
       "      <td>3.516647</td>\n",
       "    </tr>\n",
       "    <tr>\n",
       "      <th>2</th>\n",
       "      <td>Afghanistan</td>\n",
       "      <td>2008</td>\n",
       "      <td>47.821867</td>\n",
       "      <td>14.271554</td>\n",
       "      <td>4.860586</td>\n",
       "      <td>0.155304</td>\n",
       "      <td>3.135032</td>\n",
       "      <td>2.564992</td>\n",
       "      <td>1.163164</td>\n",
       "      <td>23.618340</td>\n",
       "      <td>0.427336</td>\n",
       "      <td>1.981825</td>\n",
       "    </tr>\n",
       "    <tr>\n",
       "      <th>3</th>\n",
       "      <td>Afghanistan</td>\n",
       "      <td>2009</td>\n",
       "      <td>42.170636</td>\n",
       "      <td>14.383248</td>\n",
       "      <td>6.492490</td>\n",
       "      <td>0.302205</td>\n",
       "      <td>6.519453</td>\n",
       "      <td>2.999766</td>\n",
       "      <td>1.568722</td>\n",
       "      <td>23.425845</td>\n",
       "      <td>0.502629</td>\n",
       "      <td>1.635009</td>\n",
       "    </tr>\n",
       "    <tr>\n",
       "      <th>4</th>\n",
       "      <td>Afghanistan</td>\n",
       "      <td>2010</td>\n",
       "      <td>32.508593</td>\n",
       "      <td>17.842283</td>\n",
       "      <td>6.395580</td>\n",
       "      <td>0.135353</td>\n",
       "      <td>6.105512</td>\n",
       "      <td>3.044318</td>\n",
       "      <td>0.743802</td>\n",
       "      <td>26.374643</td>\n",
       "      <td>0.457876</td>\n",
       "      <td>6.392041</td>\n",
       "    </tr>\n",
       "  </tbody>\n",
       "</table>\n",
       "</div>"
      ],
      "text/plain": [
       "Item Description      Country  Year  Expenditure on defense  \\\n",
       "0                 Afghanistan  2006                6.846308   \n",
       "1                 Afghanistan  2007                7.735393   \n",
       "2                 Afghanistan  2008               47.821867   \n",
       "3                 Afghanistan  2009               42.170636   \n",
       "4                 Afghanistan  2010               32.508593   \n",
       "\n",
       "Item Description  Expenditure on economic affairs  Expenditure on education  \\\n",
       "0                                       46.588004                 14.559212   \n",
       "1                                       47.110128                 10.814692   \n",
       "2                                       14.271554                  4.860586   \n",
       "3                                       14.383248                  6.492490   \n",
       "4                                       17.842283                  6.395580   \n",
       "\n",
       "Item Description  Expenditure on environment protection  \\\n",
       "0                                              1.669115   \n",
       "1                                              0.368395   \n",
       "2                                              0.155304   \n",
       "3                                              0.302205   \n",
       "4                                              0.135353   \n",
       "\n",
       "Item Description  Expenditure on general public services  \\\n",
       "0                                              10.966231   \n",
       "1                                              10.820965   \n",
       "2                                               3.135032   \n",
       "3                                               6.519453   \n",
       "4                                               6.105512   \n",
       "\n",
       "Item Description  Expenditure on health  \\\n",
       "0                              4.310958   \n",
       "1                              6.155899   \n",
       "2                              2.564992   \n",
       "3                              2.999766   \n",
       "4                              3.044318   \n",
       "\n",
       "Item Description  Expenditure on housing & community amenities  \\\n",
       "0                                                     1.615463   \n",
       "1                                                     3.201320   \n",
       "2                                                     1.163164   \n",
       "3                                                     1.568722   \n",
       "4                                                     0.743802   \n",
       "\n",
       "Item Description  Expenditure on public order & safety  \\\n",
       "0                                             9.713450   \n",
       "1                                             9.053316   \n",
       "2                                            23.618340   \n",
       "3                                            23.425845   \n",
       "4                                            26.374643   \n",
       "\n",
       "Item Description  Expenditure on recreation, culture, & religion  \\\n",
       "0                                                       0.972549   \n",
       "1                                                       1.223244   \n",
       "2                                                       0.427336   \n",
       "3                                                       0.502629   \n",
       "4                                                       0.457876   \n",
       "\n",
       "Item Description  Expenditure on social protection  \n",
       "0                                         2.758762  \n",
       "1                                         3.516647  \n",
       "2                                         1.981825  \n",
       "3                                         1.635009  \n",
       "4                                         6.392041  "
      ]
     },
     "execution_count": 17,
     "metadata": {},
     "output_type": "execute_result"
    }
   ],
   "source": [
    "# Merge with the Codes PD to get the description type\n",
    "imf_gov_expenses_clean_df = imf_gov_expenses_df.merge(imf_cofog_codes_df, how=\"inner\", left_on='Government Function', right_on='Item Code')[['Country', 'Item Description', 'Year', 'Percent of GDP Expense']]\n",
    "\n",
    "#Pivot Data\n",
    "imf_gov_expenses_pivot_df = pd.pivot_table(imf_gov_expenses_clean_df, values = 'Percent of GDP Expense', index=['Country','Year'], columns = 'Item Description').reset_index()\n",
    "imf_gov_expenses_pivot_df.head()"
   ]
  },
  {
   "cell_type": "code",
   "execution_count": 18,
   "metadata": {},
   "outputs": [],
   "source": [
    "# Merge IMF GOSF and World Bank CO2 Data\n",
    "co2_gov_expenses_merge = wb_co2_emissions_df.merge(imf_gov_expenses_pivot_df, how=\"inner\", on=['Country', 'Year'])"
   ]
  },
  {
   "cell_type": "markdown",
   "metadata": {},
   "source": [
    "#### Question 3a: First, we'll try to look at the most sensible link; the governments expenditure on environment protection.\n",
    "---\n",
    "#### We've included all years for all countries and made the x-axis (cause) as the expenditure, while CO2 emission is the cause. Our goal is to determine if there is a correlation on how much are the global governments spending on protecting the environment and the amount of Carbon Dioxide they produce. Plotting through Linear Regression shows that there is weak to no positive relationship at all between the two.\n",
    "---"
   ]
  },
  {
   "cell_type": "code",
   "execution_count": 19,
   "metadata": {},
   "outputs": [
    {
     "name": "stdout",
     "output_type": "stream",
     "text": [
      "The r-squared (absolute) is :0.06742692082833593\n",
      "\n"
     ]
    },
    {
     "data": {
      "image/png": "[encoded data removed]",
      "text/plain": [
       "<Figure size 432x288 with 1 Axes>"
      ]
     },
     "metadata": {
      "needs_background": "light"
     },
     "output_type": "display_data"
    },
    {
     "name": "stdout",
     "output_type": "stream",
     "text": [
      "Plotting successful.\n"
     ]
    }
   ],
   "source": [
    "co2_gov_expenses_merge = co2_gov_expenses_merge.fillna(0)\n",
    "linreg_plotter(co2_gov_expenses_merge, 'Expenditure on environment protection', 'CO2 Emissions (Kilo Ton)')"
   ]
  },
  {
   "cell_type": "code",
   "execution_count": 24,
   "metadata": {},
   "outputs": [
    {
     "data": {
      "text/html": [
       "<div>\n",
       "<style scoped>\n",
       "    .dataframe tbody tr th:only-of-type {\n",
       "        vertical-align: middle;\n",
       "    }\n",
       "\n",
       "    .dataframe tbody tr th {\n",
       "        vertical-align: top;\n",
       "    }\n",
       "\n",
       "    .dataframe thead th {\n",
       "        text-align: right;\n",
       "    }\n",
       "</style>\n",
       "<table border=\"1\" class=\"dataframe\">\n",
       "  <thead>\n",
       "    <tr style=\"text-align: right;\">\n",
       "      <th></th>\n",
       "      <th>Year</th>\n",
       "      <th>CO2 Emissions (Kilo Ton)</th>\n",
       "      <th>Expenditure on environment protection</th>\n",
       "    </tr>\n",
       "  </thead>\n",
       "  <tbody>\n",
       "    <tr>\n",
       "      <th>0</th>\n",
       "      <td>2000</td>\n",
       "      <td>1.217075e+07</td>\n",
       "      <td>1.286903</td>\n",
       "    </tr>\n",
       "    <tr>\n",
       "      <th>1</th>\n",
       "      <td>2001</td>\n",
       "      <td>1.294732e+07</td>\n",
       "      <td>1.341897</td>\n",
       "    </tr>\n",
       "    <tr>\n",
       "      <th>2</th>\n",
       "      <td>2002</td>\n",
       "      <td>1.318703e+07</td>\n",
       "      <td>1.403757</td>\n",
       "    </tr>\n",
       "    <tr>\n",
       "      <th>3</th>\n",
       "      <td>2003</td>\n",
       "      <td>1.351533e+07</td>\n",
       "      <td>1.437973</td>\n",
       "    </tr>\n",
       "    <tr>\n",
       "      <th>4</th>\n",
       "      <td>2004</td>\n",
       "      <td>1.370211e+07</td>\n",
       "      <td>1.457930</td>\n",
       "    </tr>\n",
       "  </tbody>\n",
       "</table>\n",
       "</div>"
      ],
      "text/plain": [
       "   Year  CO2 Emissions (Kilo Ton)  Expenditure on environment protection\n",
       "0  2000              1.217075e+07                               1.286903\n",
       "1  2001              1.294732e+07                               1.341897\n",
       "2  2002              1.318703e+07                               1.403757\n",
       "3  2003              1.351533e+07                               1.437973\n",
       "4  2004              1.370211e+07                               1.457930"
      ]
     },
     "execution_count": 24,
     "metadata": {},
     "output_type": "execute_result"
    }
   ],
   "source": [
    "# We'll group by year and create a line plot to see trend between emmission and spending:\n",
    "co2_gov_expenses_groupby_yr = co2_gov_expenses_merge.groupby(['Year']).agg({ \n",
    "                            'CO2 Emissions (Kilo Ton)': 'sum',\n",
    "                            'Expenditure on environment protection': 'mean' }).reset_index()\n",
    "co2_gov_expenses_groupby_yr.head()"
   ]
  },
  {
   "cell_type": "markdown",
   "metadata": {},
   "source": [
    "---\n",
    "#### We've grouped the DataFrame by year, to calculate the total annual Global Carbon Dioxide Emissions, and the total average percentage spending of all countries. Based from the graphs, it can be deduced that the lesser the world governments' spend on climate change, the more the global emmissions countries' generate. \n",
    "---"
   ]
  },
  {
   "cell_type": "code",
   "execution_count": 30,
   "metadata": {},
   "outputs": [
    {
     "data": {
      "image/png": "[encoded data removed]",
      "text/plain": [
       "<Figure size 432x288 with 1 Axes>"
      ]
     },
     "metadata": {
      "needs_background": "light"
     },
     "output_type": "display_data"
    },
    {
     "data": {
      "image/png": "[encoded data removed]",
      "text/plain": [
       "<Figure size 432x288 with 1 Axes>"
      ]
     },
     "metadata": {
      "needs_background": "light"
     },
     "output_type": "display_data"
    }
   ],
   "source": [
    "line_plotter(co2_gov_expenses_groupby_yr, 'Year', 'CO2 Emissions (Kilo Ton)', 'red') \n",
    "line_plotter(co2_gov_expenses_groupby_yr, 'Year', 'Expenditure on environment protection', 'blue')     "
   ]
  },
  {
   "cell_type": "code",
   "execution_count": null,
   "metadata": {},
   "outputs": [],
   "source": [
    "#### Question 3b: Who are the world's top CO2 emitters?\n",
    "---\n",
    "#### After slicing the data frame to include only the top 10 CO2 producers, cumulative from year 2010 onwards, the pie chart below preents the world's largest Carbon Dioxide polluters. \n",
    "---"
   ]
  },
  {
   "cell_type": "code",
   "execution_count": 36,
   "metadata": {},
   "outputs": [
    {
     "data": {
      "image/png": "[encoded data removed]",
      "text/plain": [
       "<Figure size 576x576 with 1 Axes>"
      ]
     },
     "metadata": {},
     "output_type": "display_data"
    },
    {
     "name": "stdout",
     "output_type": "stream",
     "text": [
      "Plotting successful.\n"
     ]
    }
   ],
   "source": [
    "# Pull only from year 2010 onwards, then get the sum of CO2 emmissions by country\n",
    "co2_gov_expenses_groupby_country = co2_gov_expenses_merge.loc[co2_gov_expenses_merge['Year'] >= 2010,:].groupby(['Country']).agg({ \n",
    "                            'CO2 Emissions (Kilo Ton)': 'sum'}).reset_index()\n",
    "co2_top_10_polluters = co2_gov_expenses_groupby_country.sort_values(by='CO2 Emissions (Kilo Ton)', ascending=False).head(10)\n",
    "\n",
    "pie_plotter(co2_top_10_polluters, 'CO2 Emissions (Kilo Ton)', 'Country', 'Top 10 CO2 Producers from 2010')"
   ]
  },
  {
   "cell_type": "code",
   "execution_count": null,
   "metadata": {},
   "outputs": [],
   "source": []
  }
 ],
 "metadata": {
  "kernelspec": {
   "display_name": "Python [conda env:PythonData] *",
   "language": "python",
   "name": "conda-env-PythonData-py"
  },
  "language_info": {
   "codemirror_mode": {
    "name": "ipython",
    "version": 3
   },
   "file_extension": ".py",
   "mimetype": "text/x-python",
   "name": "python",
   "nbconvert_exporter": "python",
   "pygments_lexer": "ipython3",
   "version": "3.7.5"
  }
 },
 "nbformat": 4,
 "nbformat_minor": 4
}
